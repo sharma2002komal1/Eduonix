{
 "cells": [
  {
   "cell_type": "markdown",
   "id": "5ab071b3",
   "metadata": {},
   "source": [
    "# Capstone Project Data Science: Fraud Detection Analysis"
   ]
  },
  {
   "cell_type": "markdown",
   "id": "f5b68109",
   "metadata": {},
   "source": [
    "### Introduction : \n",
    "\n",
    "Credit card fraud is a big problem for banks because it can cost them a lot of money and make customers lose trust in them. To stop this, banks use machine learning, which helps them keep an eye on transactions and catch any suspicious activity. This technology helps prevent fraud, saves money, and ensures that real transactions go through without problems, making customers feel safe."
   ]
  },
  {
   "cell_type": "markdown",
   "id": "b79f501b",
   "metadata": {},
   "source": [
    "**Problem Statement:**  \n",
    "The goal of this project is to use machine learning models to predict fraudulent credit card transactions. We will work with customer data provided and the Machine Learning Group to build a system that can effectively detect fraud."
   ]
  },
  {
   "cell_type": "markdown",
   "id": "e135fe43",
   "metadata": {},
   "source": [
    "### Project Objectives and Scope"
   ]
  },
  {
   "cell_type": "markdown",
   "id": "07e63c4c",
   "metadata": {},
   "source": [
    "**Primary goal of fraud detection model** \n",
    "\n",
    "The main goal of a fraud detection model is to correctly spot and identify fraudulent transactions (marked as Class 1) while making sure not to wrongly label genuine transactions (marked as Class 0) as fraud. The model looks at various features of transactions to find unusual patterns that may indicate fraud. By doing this, it aims to give accurate predictions, helping prevent financial losses and protect the system's integrity by catching real fraud and not flagging legitimate transactions by mistake."
   ]
  },
  {
   "cell_type": "markdown",
   "id": "8fe2636f",
   "metadata": {},
   "source": [
    "Sensitivity (Recall) and Precision are critical for a fraud detection project for the following reasons:\n",
    "\n",
    "#### Sensitivity (Recall)\n",
    "\n",
    "- **Definition**: Sensitivity, or recall, calculates the proportion of actual fraudulent transactions correctly identified by the model.\n",
    "- **Importance**:\n",
    "  - **Capturing Fraudulent Transactions**: It captures most of the fraudulent transactions due to high sensitivity of the model. Missing a fraudulent transaction (false negative) can have serious financial and reputational consequences for an organization.\n",
    "  - **Reducing Financial Loss**: The model reduces financial loss in cases where fraud has occurred undetected by capturing most fraudulent transactions.\n",
    "  - **Building Trust**: High precision enables the development of trust among stakeholders (customers, partners, etc.) by guaranteeing that fraudulent transactions are quickly detected and taken into consideration.\n",
    "\n",
    "#### Precision\n",
    "\n",
    "- **Definition**: Precision measures the proportion of transactions identified as fraudulent which are actually fraudulent.\n",
    "- **Importance**:\n",
    "  - **Minimizing False Positives**: High precision reduces the number of legitimate transactions that are incorrectly classified as fraudulent (false positives). This is important to avoid unnecessary investigations and actions on legitimate transactions.\n",
    "  - **Customer Satisfaction**: The reduction in false positives help in maintaining a pleasing customer experience. Customers might have legitimate transactions incorrectly flagged by the system as fraud resulting in inconvenience and frustration for them.\n",
    "  - **Operational Efficiency**: The high precision ensures the chances of actual fraud in these flagged transactions are more likely that helps in optimal usage of resources put in fraud investigation and management.\n",
    "\n",
    "#### Balancing Sensitivity and Precision\n",
    "- **Trade-off**: Increasing the sensitivity may reduce the precision and vice versa. Therefore, the aim is to obtain an optimal balance that maximizes the detection of fraudulent transactions while minimizing the impact on legitimate transactions.\n",
    "- **F1-Score**: This is the measure of combining sensitivity and precision into a single number for the performance of the model. It is especially useful in cases where a balance is required between the two.\n",
    "\n",
    "By focusing on both sensitivity and precision, the fraud detection model aims to provide a robust solution that effectively identifies fraud while maintaining the integrity of legitimate transactions."
   ]
  },
  {
   "cell_type": "markdown",
   "id": "747af5d3",
   "metadata": {},
   "source": [
    "### Data Analysis\n"
   ]
  },
  {
   "cell_type": "markdown",
   "id": "7704d126",
   "metadata": {},
   "source": [
    "To determine the class distribution of fraud vs. non-fraud transactions in the dataset, we can analyze the provided data. The Class column indicates whether a transaction is fraudulent (1) or non-fraudulent (0)."
   ]
  },
  {
   "cell_type": "code",
   "execution_count": 1,
   "id": "4179c436",
   "metadata": {},
   "outputs": [],
   "source": [
    "import pandas as pd"
   ]
  },
  {
   "cell_type": "code",
   "execution_count": 2,
   "id": "e2a52411",
   "metadata": {
    "scrolled": true
   },
   "outputs": [
    {
     "data": {
      "text/html": [
       "<div>\n",
       "<style scoped>\n",
       "    .dataframe tbody tr th:only-of-type {\n",
       "        vertical-align: middle;\n",
       "    }\n",
       "\n",
       "    .dataframe tbody tr th {\n",
       "        vertical-align: top;\n",
       "    }\n",
       "\n",
       "    .dataframe thead th {\n",
       "        text-align: right;\n",
       "    }\n",
       "</style>\n",
       "<table border=\"1\" class=\"dataframe\">\n",
       "  <thead>\n",
       "    <tr style=\"text-align: right;\">\n",
       "      <th></th>\n",
       "      <th>Time</th>\n",
       "      <th>V1</th>\n",
       "      <th>V2</th>\n",
       "      <th>V3</th>\n",
       "      <th>V4</th>\n",
       "      <th>V5</th>\n",
       "      <th>V6</th>\n",
       "      <th>V7</th>\n",
       "      <th>V8</th>\n",
       "      <th>V9</th>\n",
       "      <th>...</th>\n",
       "      <th>V21</th>\n",
       "      <th>V22</th>\n",
       "      <th>V23</th>\n",
       "      <th>V24</th>\n",
       "      <th>V25</th>\n",
       "      <th>V26</th>\n",
       "      <th>V27</th>\n",
       "      <th>V28</th>\n",
       "      <th>Amount</th>\n",
       "      <th>Class</th>\n",
       "    </tr>\n",
       "  </thead>\n",
       "  <tbody>\n",
       "    <tr>\n",
       "      <th>0</th>\n",
       "      <td>0.0</td>\n",
       "      <td>-1.359807</td>\n",
       "      <td>-0.072781</td>\n",
       "      <td>2.536347</td>\n",
       "      <td>1.378155</td>\n",
       "      <td>-0.338321</td>\n",
       "      <td>0.462388</td>\n",
       "      <td>0.239599</td>\n",
       "      <td>0.098698</td>\n",
       "      <td>0.363787</td>\n",
       "      <td>...</td>\n",
       "      <td>-0.018307</td>\n",
       "      <td>0.277838</td>\n",
       "      <td>-0.110474</td>\n",
       "      <td>0.066928</td>\n",
       "      <td>0.128539</td>\n",
       "      <td>-0.189115</td>\n",
       "      <td>0.133558</td>\n",
       "      <td>-0.021053</td>\n",
       "      <td>149.62</td>\n",
       "      <td>0</td>\n",
       "    </tr>\n",
       "    <tr>\n",
       "      <th>1</th>\n",
       "      <td>0.0</td>\n",
       "      <td>1.191857</td>\n",
       "      <td>0.266151</td>\n",
       "      <td>0.166480</td>\n",
       "      <td>0.448154</td>\n",
       "      <td>0.060018</td>\n",
       "      <td>-0.082361</td>\n",
       "      <td>-0.078803</td>\n",
       "      <td>0.085102</td>\n",
       "      <td>-0.255425</td>\n",
       "      <td>...</td>\n",
       "      <td>-0.225775</td>\n",
       "      <td>-0.638672</td>\n",
       "      <td>0.101288</td>\n",
       "      <td>-0.339846</td>\n",
       "      <td>0.167170</td>\n",
       "      <td>0.125895</td>\n",
       "      <td>-0.008983</td>\n",
       "      <td>0.014724</td>\n",
       "      <td>2.69</td>\n",
       "      <td>0</td>\n",
       "    </tr>\n",
       "    <tr>\n",
       "      <th>2</th>\n",
       "      <td>1.0</td>\n",
       "      <td>-1.358354</td>\n",
       "      <td>-1.340163</td>\n",
       "      <td>1.773209</td>\n",
       "      <td>0.379780</td>\n",
       "      <td>-0.503198</td>\n",
       "      <td>1.800499</td>\n",
       "      <td>0.791461</td>\n",
       "      <td>0.247676</td>\n",
       "      <td>-1.514654</td>\n",
       "      <td>...</td>\n",
       "      <td>0.247998</td>\n",
       "      <td>0.771679</td>\n",
       "      <td>0.909412</td>\n",
       "      <td>-0.689281</td>\n",
       "      <td>-0.327642</td>\n",
       "      <td>-0.139097</td>\n",
       "      <td>-0.055353</td>\n",
       "      <td>-0.059752</td>\n",
       "      <td>378.66</td>\n",
       "      <td>0</td>\n",
       "    </tr>\n",
       "    <tr>\n",
       "      <th>3</th>\n",
       "      <td>1.0</td>\n",
       "      <td>-0.966272</td>\n",
       "      <td>-0.185226</td>\n",
       "      <td>1.792993</td>\n",
       "      <td>-0.863291</td>\n",
       "      <td>-0.010309</td>\n",
       "      <td>1.247203</td>\n",
       "      <td>0.237609</td>\n",
       "      <td>0.377436</td>\n",
       "      <td>-1.387024</td>\n",
       "      <td>...</td>\n",
       "      <td>-0.108300</td>\n",
       "      <td>0.005274</td>\n",
       "      <td>-0.190321</td>\n",
       "      <td>-1.175575</td>\n",
       "      <td>0.647376</td>\n",
       "      <td>-0.221929</td>\n",
       "      <td>0.062723</td>\n",
       "      <td>0.061458</td>\n",
       "      <td>123.50</td>\n",
       "      <td>0</td>\n",
       "    </tr>\n",
       "    <tr>\n",
       "      <th>4</th>\n",
       "      <td>2.0</td>\n",
       "      <td>-1.158233</td>\n",
       "      <td>0.877737</td>\n",
       "      <td>1.548718</td>\n",
       "      <td>0.403034</td>\n",
       "      <td>-0.407193</td>\n",
       "      <td>0.095921</td>\n",
       "      <td>0.592941</td>\n",
       "      <td>-0.270533</td>\n",
       "      <td>0.817739</td>\n",
       "      <td>...</td>\n",
       "      <td>-0.009431</td>\n",
       "      <td>0.798278</td>\n",
       "      <td>-0.137458</td>\n",
       "      <td>0.141267</td>\n",
       "      <td>-0.206010</td>\n",
       "      <td>0.502292</td>\n",
       "      <td>0.219422</td>\n",
       "      <td>0.215153</td>\n",
       "      <td>69.99</td>\n",
       "      <td>0</td>\n",
       "    </tr>\n",
       "  </tbody>\n",
       "</table>\n",
       "<p>5 rows × 31 columns</p>\n",
       "</div>"
      ],
      "text/plain": [
       "   Time        V1        V2        V3        V4        V5        V6        V7  \\\n",
       "0   0.0 -1.359807 -0.072781  2.536347  1.378155 -0.338321  0.462388  0.239599   \n",
       "1   0.0  1.191857  0.266151  0.166480  0.448154  0.060018 -0.082361 -0.078803   \n",
       "2   1.0 -1.358354 -1.340163  1.773209  0.379780 -0.503198  1.800499  0.791461   \n",
       "3   1.0 -0.966272 -0.185226  1.792993 -0.863291 -0.010309  1.247203  0.237609   \n",
       "4   2.0 -1.158233  0.877737  1.548718  0.403034 -0.407193  0.095921  0.592941   \n",
       "\n",
       "         V8        V9  ...       V21       V22       V23       V24       V25  \\\n",
       "0  0.098698  0.363787  ... -0.018307  0.277838 -0.110474  0.066928  0.128539   \n",
       "1  0.085102 -0.255425  ... -0.225775 -0.638672  0.101288 -0.339846  0.167170   \n",
       "2  0.247676 -1.514654  ...  0.247998  0.771679  0.909412 -0.689281 -0.327642   \n",
       "3  0.377436 -1.387024  ... -0.108300  0.005274 -0.190321 -1.175575  0.647376   \n",
       "4 -0.270533  0.817739  ... -0.009431  0.798278 -0.137458  0.141267 -0.206010   \n",
       "\n",
       "        V26       V27       V28  Amount  Class  \n",
       "0 -0.189115  0.133558 -0.021053  149.62      0  \n",
       "1  0.125895 -0.008983  0.014724    2.69      0  \n",
       "2 -0.139097 -0.055353 -0.059752  378.66      0  \n",
       "3 -0.221929  0.062723  0.061458  123.50      0  \n",
       "4  0.502292  0.219422  0.215153   69.99      0  \n",
       "\n",
       "[5 rows x 31 columns]"
      ]
     },
     "execution_count": 2,
     "metadata": {},
     "output_type": "execute_result"
    }
   ],
   "source": [
    "data = pd.read_csv('Credit Card.csv')\n",
    "data.head()"
   ]
  },
  {
   "cell_type": "code",
   "execution_count": 3,
   "id": "e53b65bd",
   "metadata": {},
   "outputs": [],
   "source": [
    "class_distribution = data['Class'].value_counts()\n",
    "\n",
    "non_fraudulent = class_distribution[0]\n",
    "fraudulent = class_distribution[1]"
   ]
  },
  {
   "cell_type": "code",
   "execution_count": 4,
   "id": "d1bf57fc",
   "metadata": {},
   "outputs": [
    {
     "data": {
      "text/plain": [
       "284315"
      ]
     },
     "execution_count": 4,
     "metadata": {},
     "output_type": "execute_result"
    }
   ],
   "source": [
    "non_fraudulent"
   ]
  },
  {
   "cell_type": "code",
   "execution_count": 5,
   "id": "177d4ebb",
   "metadata": {},
   "outputs": [
    {
     "data": {
      "text/plain": [
       "492"
      ]
     },
     "execution_count": 5,
     "metadata": {},
     "output_type": "execute_result"
    }
   ],
   "source": [
    "fraudulent"
   ]
  },
  {
   "cell_type": "markdown",
   "id": "7ca616ca",
   "metadata": {},
   "source": [
    "To determine if the 'Time' feature helps in predicting fraud, we need to analyze its relationship with fraudulent and non-fraudulent transactions."
   ]
  },
  {
   "cell_type": "code",
   "execution_count": 6,
   "id": "4db4f0a5",
   "metadata": {},
   "outputs": [],
   "source": [
    "import matplotlib.pyplot as plt\n",
    "import seaborn as sns"
   ]
  },
  {
   "cell_type": "code",
   "execution_count": 7,
   "id": "5b9edac2",
   "metadata": {},
   "outputs": [
    {
     "data": {
      "image/png": "[encoded data removed]",
      "text/plain": [
       "<Figure size 1400x700 with 1 Axes>"
      ]
     },
     "metadata": {},
     "output_type": "display_data"
    }
   ],
   "source": [
    "#  Plot the distribution of the 'Time' feature for both fraudulent and non-fraudulent transactions to observe any noticeable patterns or differences.\n",
    "\n",
    "plt.figure(figsize=(14, 7))\n",
    "sns.histplot(data[data['Class'] == 0]['Time'], bins=50, color='blue', label='Non-Fraudulent', kde=True)\n",
    "sns.histplot(data[data['Class'] == 1]['Time'], bins=50, color='red', label='Fraudulent', kde=True)\n",
    "plt.legend()\n",
    "plt.title('Distribution of Time for Fraudulent and Non-Fraudulent Transactions')\n",
    "plt.xlabel('Time')\n",
    "plt.ylabel('Frequency')\n",
    "plt.show()"
   ]
  },
  {
   "cell_type": "code",
   "execution_count": 8,
   "id": "cb6f5076",
   "metadata": {},
   "outputs": [
    {
     "data": {
      "image/png": "[encoded data removed]",
      "text/plain": [
       "<Figure size 1000x600 with 1 Axes>"
      ]
     },
     "metadata": {},
     "output_type": "display_data"
    }
   ],
   "source": [
    "# Separate the data into fraudulent and non-fraudulent transactions\n",
    "fraud = data[data['Class'] == 1]\n",
    "non_fraud = data[data['Class'] == 0]\n",
    "\n",
    "# Create a scatter plot for V1 vs V2\n",
    "plt.figure(figsize=(10, 6))\n",
    "plt.scatter(non_fraud['V1'], non_fraud['V2'], c='blue', label='Non-Fraudulent', alpha=0.5, s=10)\n",
    "plt.scatter(fraud['V1'], fraud['V2'], c='red', label='Fraudulent', alpha=0.5, s=10)\n",
    "plt.xlabel('V1')\n",
    "plt.ylabel('V2')\n",
    "plt.title('Scatter Plot of V1 vs V2 for Fraudulent and Non-Fraudulent Transactions')\n",
    "plt.legend()\n",
    "plt.show()"
   ]
  },
  {
   "cell_type": "markdown",
   "id": "a69e3fc6",
   "metadata": {},
   "source": [
    "Helps to identify if there are distinct patterns in the 'Time' distribution for fraudulent and non-fraudulent transactions."
   ]
  },
  {
   "cell_type": "markdown",
   "id": "e043816a",
   "metadata": {},
   "source": [
    "### Data Preprocessing "
   ]
  },
  {
   "cell_type": "markdown",
   "id": "deedb400",
   "metadata": {},
   "source": [
    "Standardizing the 'Amount' feature typically involves transforming it to have a mean of 0 and a standard deviation of 1."
   ]
  },
  {
   "cell_type": "markdown",
   "id": "006f135d",
   "metadata": {},
   "source": [
    "Standardizing the 'Amount' feature is important because it puts this feature on the same scale as others, making them easier to compare. This helps improve the model's performance and stability, makes the results easier to understand, and reduces the effect of any extreme values and  resolve overfitting problem. With this, we can create a more accurate and dependable fraud detection model."
   ]
  },
  {
   "cell_type": "code",
   "execution_count": 9,
   "id": "7e365c6b",
   "metadata": {},
   "outputs": [],
   "source": [
    "# Separate features and target variable\n",
    "x = data.drop(columns=['Class'])  # Features\n",
    "y = data['Class']                 # Target variable"
   ]
  },
  {
   "cell_type": "raw",
   "id": "8cbe3166",
   "metadata": {},
   "source": [
    "Features that typically dropped while preprocessing in such condition where : \n",
    "    - Feature with High Null Value\n",
    "    - Duplicate Features\n",
    "    - Low Variance Features\n",
    "    - Irrelevant Column \n",
    "    - Highly Correlated Feature "
   ]
  },
  {
   "cell_type": "code",
   "execution_count": 10,
   "id": "5e99af96",
   "metadata": {},
   "outputs": [
    {
     "data": {
      "text/html": [
       "<div>\n",
       "<style scoped>\n",
       "    .dataframe tbody tr th:only-of-type {\n",
       "        vertical-align: middle;\n",
       "    }\n",
       "\n",
       "    .dataframe tbody tr th {\n",
       "        vertical-align: top;\n",
       "    }\n",
       "\n",
       "    .dataframe thead th {\n",
       "        text-align: right;\n",
       "    }\n",
       "</style>\n",
       "<table border=\"1\" class=\"dataframe\">\n",
       "  <thead>\n",
       "    <tr style=\"text-align: right;\">\n",
       "      <th></th>\n",
       "      <th>Time</th>\n",
       "      <th>V1</th>\n",
       "      <th>V2</th>\n",
       "      <th>V3</th>\n",
       "      <th>V4</th>\n",
       "      <th>V5</th>\n",
       "      <th>V6</th>\n",
       "      <th>V7</th>\n",
       "      <th>V8</th>\n",
       "      <th>V9</th>\n",
       "      <th>...</th>\n",
       "      <th>V21</th>\n",
       "      <th>V22</th>\n",
       "      <th>V23</th>\n",
       "      <th>V24</th>\n",
       "      <th>V25</th>\n",
       "      <th>V26</th>\n",
       "      <th>V27</th>\n",
       "      <th>V28</th>\n",
       "      <th>Amount</th>\n",
       "      <th>Class</th>\n",
       "    </tr>\n",
       "  </thead>\n",
       "  <tbody>\n",
       "    <tr>\n",
       "      <th>count</th>\n",
       "      <td>284807.000000</td>\n",
       "      <td>2.848070e+05</td>\n",
       "      <td>2.848070e+05</td>\n",
       "      <td>2.848070e+05</td>\n",
       "      <td>2.848070e+05</td>\n",
       "      <td>2.848070e+05</td>\n",
       "      <td>2.848070e+05</td>\n",
       "      <td>2.848070e+05</td>\n",
       "      <td>2.848070e+05</td>\n",
       "      <td>2.848070e+05</td>\n",
       "      <td>...</td>\n",
       "      <td>2.848070e+05</td>\n",
       "      <td>2.848070e+05</td>\n",
       "      <td>2.848070e+05</td>\n",
       "      <td>2.848070e+05</td>\n",
       "      <td>2.848070e+05</td>\n",
       "      <td>2.848070e+05</td>\n",
       "      <td>2.848070e+05</td>\n",
       "      <td>2.848070e+05</td>\n",
       "      <td>284807.000000</td>\n",
       "      <td>284807.000000</td>\n",
       "    </tr>\n",
       "    <tr>\n",
       "      <th>mean</th>\n",
       "      <td>94813.859575</td>\n",
       "      <td>1.168375e-15</td>\n",
       "      <td>3.416908e-16</td>\n",
       "      <td>-1.379537e-15</td>\n",
       "      <td>2.074095e-15</td>\n",
       "      <td>9.604066e-16</td>\n",
       "      <td>1.487313e-15</td>\n",
       "      <td>-5.556467e-16</td>\n",
       "      <td>1.213481e-16</td>\n",
       "      <td>-2.406331e-15</td>\n",
       "      <td>...</td>\n",
       "      <td>1.654067e-16</td>\n",
       "      <td>-3.568593e-16</td>\n",
       "      <td>2.578648e-16</td>\n",
       "      <td>4.473266e-15</td>\n",
       "      <td>5.340915e-16</td>\n",
       "      <td>1.683437e-15</td>\n",
       "      <td>-3.660091e-16</td>\n",
       "      <td>-1.227390e-16</td>\n",
       "      <td>88.349619</td>\n",
       "      <td>0.001727</td>\n",
       "    </tr>\n",
       "    <tr>\n",
       "      <th>std</th>\n",
       "      <td>47488.145955</td>\n",
       "      <td>1.958696e+00</td>\n",
       "      <td>1.651309e+00</td>\n",
       "      <td>1.516255e+00</td>\n",
       "      <td>1.415869e+00</td>\n",
       "      <td>1.380247e+00</td>\n",
       "      <td>1.332271e+00</td>\n",
       "      <td>1.237094e+00</td>\n",
       "      <td>1.194353e+00</td>\n",
       "      <td>1.098632e+00</td>\n",
       "      <td>...</td>\n",
       "      <td>7.345240e-01</td>\n",
       "      <td>7.257016e-01</td>\n",
       "      <td>6.244603e-01</td>\n",
       "      <td>6.056471e-01</td>\n",
       "      <td>5.212781e-01</td>\n",
       "      <td>4.822270e-01</td>\n",
       "      <td>4.036325e-01</td>\n",
       "      <td>3.300833e-01</td>\n",
       "      <td>250.120109</td>\n",
       "      <td>0.041527</td>\n",
       "    </tr>\n",
       "    <tr>\n",
       "      <th>min</th>\n",
       "      <td>0.000000</td>\n",
       "      <td>-5.640751e+01</td>\n",
       "      <td>-7.271573e+01</td>\n",
       "      <td>-4.832559e+01</td>\n",
       "      <td>-5.683171e+00</td>\n",
       "      <td>-1.137433e+02</td>\n",
       "      <td>-2.616051e+01</td>\n",
       "      <td>-4.355724e+01</td>\n",
       "      <td>-7.321672e+01</td>\n",
       "      <td>-1.343407e+01</td>\n",
       "      <td>...</td>\n",
       "      <td>-3.483038e+01</td>\n",
       "      <td>-1.093314e+01</td>\n",
       "      <td>-4.480774e+01</td>\n",
       "      <td>-2.836627e+00</td>\n",
       "      <td>-1.029540e+01</td>\n",
       "      <td>-2.604551e+00</td>\n",
       "      <td>-2.256568e+01</td>\n",
       "      <td>-1.543008e+01</td>\n",
       "      <td>0.000000</td>\n",
       "      <td>0.000000</td>\n",
       "    </tr>\n",
       "    <tr>\n",
       "      <th>25%</th>\n",
       "      <td>54201.500000</td>\n",
       "      <td>-9.203734e-01</td>\n",
       "      <td>-5.985499e-01</td>\n",
       "      <td>-8.903648e-01</td>\n",
       "      <td>-8.486401e-01</td>\n",
       "      <td>-6.915971e-01</td>\n",
       "      <td>-7.682956e-01</td>\n",
       "      <td>-5.540759e-01</td>\n",
       "      <td>-2.086297e-01</td>\n",
       "      <td>-6.430976e-01</td>\n",
       "      <td>...</td>\n",
       "      <td>-2.283949e-01</td>\n",
       "      <td>-5.423504e-01</td>\n",
       "      <td>-1.618463e-01</td>\n",
       "      <td>-3.545861e-01</td>\n",
       "      <td>-3.171451e-01</td>\n",
       "      <td>-3.269839e-01</td>\n",
       "      <td>-7.083953e-02</td>\n",
       "      <td>-5.295979e-02</td>\n",
       "      <td>5.600000</td>\n",
       "      <td>0.000000</td>\n",
       "    </tr>\n",
       "    <tr>\n",
       "      <th>50%</th>\n",
       "      <td>84692.000000</td>\n",
       "      <td>1.810880e-02</td>\n",
       "      <td>6.548556e-02</td>\n",
       "      <td>1.798463e-01</td>\n",
       "      <td>-1.984653e-02</td>\n",
       "      <td>-5.433583e-02</td>\n",
       "      <td>-2.741871e-01</td>\n",
       "      <td>4.010308e-02</td>\n",
       "      <td>2.235804e-02</td>\n",
       "      <td>-5.142873e-02</td>\n",
       "      <td>...</td>\n",
       "      <td>-2.945017e-02</td>\n",
       "      <td>6.781943e-03</td>\n",
       "      <td>-1.119293e-02</td>\n",
       "      <td>4.097606e-02</td>\n",
       "      <td>1.659350e-02</td>\n",
       "      <td>-5.213911e-02</td>\n",
       "      <td>1.342146e-03</td>\n",
       "      <td>1.124383e-02</td>\n",
       "      <td>22.000000</td>\n",
       "      <td>0.000000</td>\n",
       "    </tr>\n",
       "    <tr>\n",
       "      <th>75%</th>\n",
       "      <td>139320.500000</td>\n",
       "      <td>1.315642e+00</td>\n",
       "      <td>8.037239e-01</td>\n",
       "      <td>1.027196e+00</td>\n",
       "      <td>7.433413e-01</td>\n",
       "      <td>6.119264e-01</td>\n",
       "      <td>3.985649e-01</td>\n",
       "      <td>5.704361e-01</td>\n",
       "      <td>3.273459e-01</td>\n",
       "      <td>5.971390e-01</td>\n",
       "      <td>...</td>\n",
       "      <td>1.863772e-01</td>\n",
       "      <td>5.285536e-01</td>\n",
       "      <td>1.476421e-01</td>\n",
       "      <td>4.395266e-01</td>\n",
       "      <td>3.507156e-01</td>\n",
       "      <td>2.409522e-01</td>\n",
       "      <td>9.104512e-02</td>\n",
       "      <td>7.827995e-02</td>\n",
       "      <td>77.165000</td>\n",
       "      <td>0.000000</td>\n",
       "    </tr>\n",
       "    <tr>\n",
       "      <th>max</th>\n",
       "      <td>172792.000000</td>\n",
       "      <td>2.454930e+00</td>\n",
       "      <td>2.205773e+01</td>\n",
       "      <td>9.382558e+00</td>\n",
       "      <td>1.687534e+01</td>\n",
       "      <td>3.480167e+01</td>\n",
       "      <td>7.330163e+01</td>\n",
       "      <td>1.205895e+02</td>\n",
       "      <td>2.000721e+01</td>\n",
       "      <td>1.559499e+01</td>\n",
       "      <td>...</td>\n",
       "      <td>2.720284e+01</td>\n",
       "      <td>1.050309e+01</td>\n",
       "      <td>2.252841e+01</td>\n",
       "      <td>4.584549e+00</td>\n",
       "      <td>7.519589e+00</td>\n",
       "      <td>3.517346e+00</td>\n",
       "      <td>3.161220e+01</td>\n",
       "      <td>3.384781e+01</td>\n",
       "      <td>25691.160000</td>\n",
       "      <td>1.000000</td>\n",
       "    </tr>\n",
       "  </tbody>\n",
       "</table>\n",
       "<p>8 rows × 31 columns</p>\n",
       "</div>"
      ],
      "text/plain": [
       "                Time            V1            V2            V3            V4  \\\n",
       "count  284807.000000  2.848070e+05  2.848070e+05  2.848070e+05  2.848070e+05   \n",
       "mean    94813.859575  1.168375e-15  3.416908e-16 -1.379537e-15  2.074095e-15   \n",
       "std     47488.145955  1.958696e+00  1.651309e+00  1.516255e+00  1.415869e+00   \n",
       "min         0.000000 -5.640751e+01 -7.271573e+01 -4.832559e+01 -5.683171e+00   \n",
       "25%     54201.500000 -9.203734e-01 -5.985499e-01 -8.903648e-01 -8.486401e-01   \n",
       "50%     84692.000000  1.810880e-02  6.548556e-02  1.798463e-01 -1.984653e-02   \n",
       "75%    139320.500000  1.315642e+00  8.037239e-01  1.027196e+00  7.433413e-01   \n",
       "max    172792.000000  2.454930e+00  2.205773e+01  9.382558e+00  1.687534e+01   \n",
       "\n",
       "                 V5            V6            V7            V8            V9  \\\n",
       "count  2.848070e+05  2.848070e+05  2.848070e+05  2.848070e+05  2.848070e+05   \n",
       "mean   9.604066e-16  1.487313e-15 -5.556467e-16  1.213481e-16 -2.406331e-15   \n",
       "std    1.380247e+00  1.332271e+00  1.237094e+00  1.194353e+00  1.098632e+00   \n",
       "min   -1.137433e+02 -2.616051e+01 -4.355724e+01 -7.321672e+01 -1.343407e+01   \n",
       "25%   -6.915971e-01 -7.682956e-01 -5.540759e-01 -2.086297e-01 -6.430976e-01   \n",
       "50%   -5.433583e-02 -2.741871e-01  4.010308e-02  2.235804e-02 -5.142873e-02   \n",
       "75%    6.119264e-01  3.985649e-01  5.704361e-01  3.273459e-01  5.971390e-01   \n",
       "max    3.480167e+01  7.330163e+01  1.205895e+02  2.000721e+01  1.559499e+01   \n",
       "\n",
       "       ...           V21           V22           V23           V24  \\\n",
       "count  ...  2.848070e+05  2.848070e+05  2.848070e+05  2.848070e+05   \n",
       "mean   ...  1.654067e-16 -3.568593e-16  2.578648e-16  4.473266e-15   \n",
       "std    ...  7.345240e-01  7.257016e-01  6.244603e-01  6.056471e-01   \n",
       "min    ... -3.483038e+01 -1.093314e+01 -4.480774e+01 -2.836627e+00   \n",
       "25%    ... -2.283949e-01 -5.423504e-01 -1.618463e-01 -3.545861e-01   \n",
       "50%    ... -2.945017e-02  6.781943e-03 -1.119293e-02  4.097606e-02   \n",
       "75%    ...  1.863772e-01  5.285536e-01  1.476421e-01  4.395266e-01   \n",
       "max    ...  2.720284e+01  1.050309e+01  2.252841e+01  4.584549e+00   \n",
       "\n",
       "                V25           V26           V27           V28         Amount  \\\n",
       "count  2.848070e+05  2.848070e+05  2.848070e+05  2.848070e+05  284807.000000   \n",
       "mean   5.340915e-16  1.683437e-15 -3.660091e-16 -1.227390e-16      88.349619   \n",
       "std    5.212781e-01  4.822270e-01  4.036325e-01  3.300833e-01     250.120109   \n",
       "min   -1.029540e+01 -2.604551e+00 -2.256568e+01 -1.543008e+01       0.000000   \n",
       "25%   -3.171451e-01 -3.269839e-01 -7.083953e-02 -5.295979e-02       5.600000   \n",
       "50%    1.659350e-02 -5.213911e-02  1.342146e-03  1.124383e-02      22.000000   \n",
       "75%    3.507156e-01  2.409522e-01  9.104512e-02  7.827995e-02      77.165000   \n",
       "max    7.519589e+00  3.517346e+00  3.161220e+01  3.384781e+01   25691.160000   \n",
       "\n",
       "               Class  \n",
       "count  284807.000000  \n",
       "mean        0.001727  \n",
       "std         0.041527  \n",
       "min         0.000000  \n",
       "25%         0.000000  \n",
       "50%         0.000000  \n",
       "75%         0.000000  \n",
       "max         1.000000  \n",
       "\n",
       "[8 rows x 31 columns]"
      ]
     },
     "execution_count": 10,
     "metadata": {},
     "output_type": "execute_result"
    }
   ],
   "source": [
    "data.describe()"
   ]
  },
  {
   "cell_type": "code",
   "execution_count": 11,
   "id": "4bdd82db",
   "metadata": {},
   "outputs": [
    {
     "name": "stdout",
     "output_type": "stream",
     "text": [
      "<class 'pandas.core.frame.DataFrame'>\n",
      "RangeIndex: 284807 entries, 0 to 284806\n",
      "Data columns (total 31 columns):\n",
      " #   Column  Non-Null Count   Dtype  \n",
      "---  ------  --------------   -----  \n",
      " 0   Time    284807 non-null  float64\n",
      " 1   V1      284807 non-null  float64\n",
      " 2   V2      284807 non-null  float64\n",
      " 3   V3      284807 non-null  float64\n",
      " 4   V4      284807 non-null  float64\n",
      " 5   V5      284807 non-null  float64\n",
      " 6   V6      284807 non-null  float64\n",
      " 7   V7      284807 non-null  float64\n",
      " 8   V8      284807 non-null  float64\n",
      " 9   V9      284807 non-null  float64\n",
      " 10  V10     284807 non-null  float64\n",
      " 11  V11     284807 non-null  float64\n",
      " 12  V12     284807 non-null  float64\n",
      " 13  V13     284807 non-null  float64\n",
      " 14  V14     284807 non-null  float64\n",
      " 15  V15     284807 non-null  float64\n",
      " 16  V16     284807 non-null  float64\n",
      " 17  V17     284807 non-null  float64\n",
      " 18  V18     284807 non-null  float64\n",
      " 19  V19     284807 non-null  float64\n",
      " 20  V20     284807 non-null  float64\n",
      " 21  V21     284807 non-null  float64\n",
      " 22  V22     284807 non-null  float64\n",
      " 23  V23     284807 non-null  float64\n",
      " 24  V24     284807 non-null  float64\n",
      " 25  V25     284807 non-null  float64\n",
      " 26  V26     284807 non-null  float64\n",
      " 27  V27     284807 non-null  float64\n",
      " 28  V28     284807 non-null  float64\n",
      " 29  Amount  284807 non-null  float64\n",
      " 30  Class   284807 non-null  int64  \n",
      "dtypes: float64(30), int64(1)\n",
      "memory usage: 67.4 MB\n"
     ]
    }
   ],
   "source": [
    "data.info()"
   ]
  },
  {
   "cell_type": "code",
   "execution_count": 12,
   "id": "a9467940",
   "metadata": {},
   "outputs": [
    {
     "data": {
      "text/plain": [
       "Time      0\n",
       "V1        0\n",
       "V2        0\n",
       "V3        0\n",
       "V4        0\n",
       "V5        0\n",
       "V6        0\n",
       "V7        0\n",
       "V8        0\n",
       "V9        0\n",
       "V10       0\n",
       "V11       0\n",
       "V12       0\n",
       "V13       0\n",
       "V14       0\n",
       "V15       0\n",
       "V16       0\n",
       "V17       0\n",
       "V18       0\n",
       "V19       0\n",
       "V20       0\n",
       "V21       0\n",
       "V22       0\n",
       "V23       0\n",
       "V24       0\n",
       "V25       0\n",
       "V26       0\n",
       "V27       0\n",
       "V28       0\n",
       "Amount    0\n",
       "Class     0\n",
       "dtype: int64"
      ]
     },
     "execution_count": 12,
     "metadata": {},
     "output_type": "execute_result"
    }
   ],
   "source": [
    "# Null Values \n",
    "null_values = data.isnull().sum()\n",
    "null_values"
   ]
  },
  {
   "cell_type": "code",
   "execution_count": 13,
   "id": "1d44eb7e",
   "metadata": {},
   "outputs": [
    {
     "name": "stdout",
     "output_type": "stream",
     "text": [
      "['Class']\n"
     ]
    }
   ],
   "source": [
    "# Find features which have low variance  \n",
    "low_variance_features = [col for col in data.columns if data[col].var() < 0.01]\n",
    "print(low_variance_features)"
   ]
  },
  {
   "cell_type": "markdown",
   "id": "26fb3227",
   "metadata": {},
   "source": [
    "Class is basically a  Target Variable annd we can't be considered  it as low variance becaz its an output or target variable and dependent feature ... so no need to drop this feature "
   ]
  },
  {
   "cell_type": "code",
   "execution_count": 14,
   "id": "ec6d917d",
   "metadata": {},
   "outputs": [
    {
     "name": "stdout",
     "output_type": "stream",
     "text": [
      "Highly correlated features:\n",
      " []\n"
     ]
    }
   ],
   "source": [
    "import numpy as  np\n",
    "\n",
    "correlation_matrix = data.corr().abs()\n",
    "\n",
    "# Selecting upper triangle of the correlation matrix\n",
    "upper = correlation_matrix.where(np.triu(np.ones(correlation_matrix.shape), k=1).astype(bool))\n",
    "\n",
    "# Finding features with correlation greater than 0.95\n",
    "highly_correlated_features = [column for column in upper.columns if any(upper[column] > 0.95)]\n",
    "print(\"Highly correlated features:\\n\", highly_correlated_features)"
   ]
  },
  {
   "cell_type": "markdown",
   "id": "4840cca4",
   "metadata": {},
   "source": [
    "As according to my prospective , every column or data is relevent and does not have such high null values , and each feature are independent and does not correlated with each other . So, there is no need to drop any feaure from this dataset.  "
   ]
  },
  {
   "cell_type": "markdown",
   "id": "023bc1ea",
   "metadata": {},
   "source": [
    "### Model Training\n"
   ]
  },
  {
   "cell_type": "code",
   "execution_count": 15,
   "id": "c01d5027",
   "metadata": {},
   "outputs": [],
   "source": [
    "# Split the data into training and testing sets\n",
    "from sklearn.model_selection import train_test_split\n",
    "x_train, x_test, y_train, y_test = train_test_split(x, y, test_size=0.3, random_state=42)"
   ]
  },
  {
   "cell_type": "code",
   "execution_count": 16,
   "id": "3afd0d6b",
   "metadata": {},
   "outputs": [
    {
     "data": {
      "text/plain": [
       "array([[-1.95144063, -1.16681856, -0.28654908, ...,  0.96676   ,\n",
       "        -0.4486209 , -0.33974783],\n",
       "       [ 1.24181171, -0.15922175, -2.43543667, ..., -0.71311931,\n",
       "         0.33519183,  4.27773998],\n",
       "       [ 0.05339701, -0.92214029, -0.33881865, ..., -0.15212107,\n",
       "         0.26753092, -0.0533992 ],\n",
       "       ...,\n",
       "       [-0.31497174, -0.07400401,  0.59673261, ..., -0.29672056,\n",
       "        -0.59571272, -0.32837128],\n",
       "       [-0.14359433, -1.50291696,  1.41328113, ...,  1.2243654 ,\n",
       "         1.01984233, -0.33974783],\n",
       "       [-0.38688453,  0.62962541, -0.46917078, ...,  0.0044092 ,\n",
       "         0.11724428,  0.09364469]])"
      ]
     },
     "execution_count": 16,
     "metadata": {},
     "output_type": "execute_result"
    }
   ],
   "source": [
    "from sklearn.preprocessing import StandardScaler\n",
    "\n",
    "scaler = StandardScaler()\n",
    "x_train = scaler.fit_transform(x_train)\n",
    "x_test = scaler.transform(x_test)\n",
    "\n",
    "x_train"
   ]
  },
  {
   "cell_type": "code",
   "execution_count": 17,
   "id": "a230874d",
   "metadata": {},
   "outputs": [
    {
     "data": {
      "text/plain": [
       "array([[-1.12151562, -8.42703903,  5.1486402 , ..., -4.96650013,\n",
       "        -3.16657662,  1.06564352],\n",
       "       [-1.06346299,  0.17404952, -1.64365414, ...,  0.10230985,\n",
       "         0.3099202 ,  1.66902653],\n",
       "       [-1.24834248,  0.71449029, -0.35276585, ...,  0.02949291,\n",
       "         0.01413826, -0.22366055],\n",
       "       ...,\n",
       "       [-1.32360446,  0.38159558, -0.61498614, ...,  0.1450263 ,\n",
       "         0.177531  ,  0.41327168],\n",
       "       [ 0.97516144,  1.06174851,  0.1019923 , ..., -0.15089508,\n",
       "        -0.09379868, -0.34017349],\n",
       "       [-0.70684801,  0.55744777, -0.03940111, ...,  0.19863631,\n",
       "         0.10769086, -0.30492165]])"
      ]
     },
     "execution_count": 17,
     "metadata": {},
     "output_type": "execute_result"
    }
   ],
   "source": [
    "x_test"
   ]
  },
  {
   "cell_type": "markdown",
   "id": "90ccbbdf",
   "metadata": {},
   "source": [
    "Gaussian Naive Bayes is a method which is basically used for continuous data that follows a normal distribution i.e. mean = median =  mode. It works by calculating the likelihood that a feature value belongs to a specific class based on how the feature values are distributed in the training data."
   ]
  },
  {
   "cell_type": "code",
   "execution_count": 18,
   "id": "91ab6b04",
   "metadata": {},
   "outputs": [
    {
     "data": {
      "text/html": [
       "<style>#sk-container-id-1 {color: black;}#sk-container-id-1 pre{padding: 0;}#sk-container-id-1 div.sk-toggleable {background-color: white;}#sk-container-id-1 label.sk-toggleable__label {cursor: pointer;display: block;width: 100%;margin-bottom: 0;padding: 0.3em;box-sizing: border-box;text-align: center;}#sk-container-id-1 label.sk-toggleable__label-arrow:before {content: \"▸\";float: left;margin-right: 0.25em;color: #696969;}#sk-container-id-1 label.sk-toggleable__label-arrow:hover:before {color: black;}#sk-container-id-1 div.sk-estimator:hover label.sk-toggleable__label-arrow:before {color: black;}#sk-container-id-1 div.sk-toggleable__content {max-height: 0;max-width: 0;overflow: hidden;text-align: left;background-color: #f0f8ff;}#sk-container-id-1 div.sk-toggleable__content pre {margin: 0.2em;color: black;border-radius: 0.25em;background-color: #f0f8ff;}#sk-container-id-1 input.sk-toggleable__control:checked~div.sk-toggleable__content {max-height: 200px;max-width: 100%;overflow: auto;}#sk-container-id-1 input.sk-toggleable__control:checked~label.sk-toggleable__label-arrow:before {content: \"▾\";}#sk-container-id-1 div.sk-estimator input.sk-toggleable__control:checked~label.sk-toggleable__label {background-color: #d4ebff;}#sk-container-id-1 div.sk-label input.sk-toggleable__control:checked~label.sk-toggleable__label {background-color: #d4ebff;}#sk-container-id-1 input.sk-hidden--visually {border: 0;clip: rect(1px 1px 1px 1px);clip: rect(1px, 1px, 1px, 1px);height: 1px;margin: -1px;overflow: hidden;padding: 0;position: absolute;width: 1px;}#sk-container-id-1 div.sk-estimator {font-family: monospace;background-color: #f0f8ff;border: 1px dotted black;border-radius: 0.25em;box-sizing: border-box;margin-bottom: 0.5em;}#sk-container-id-1 div.sk-estimator:hover {background-color: #d4ebff;}#sk-container-id-1 div.sk-parallel-item::after {content: \"\";width: 100%;border-bottom: 1px solid gray;flex-grow: 1;}#sk-container-id-1 div.sk-label:hover label.sk-toggleable__label {background-color: #d4ebff;}#sk-container-id-1 div.sk-serial::before {content: \"\";position: absolute;border-left: 1px solid gray;box-sizing: border-box;top: 0;bottom: 0;left: 50%;z-index: 0;}#sk-container-id-1 div.sk-serial {display: flex;flex-direction: column;align-items: center;background-color: white;padding-right: 0.2em;padding-left: 0.2em;position: relative;}#sk-container-id-1 div.sk-item {position: relative;z-index: 1;}#sk-container-id-1 div.sk-parallel {display: flex;align-items: stretch;justify-content: center;background-color: white;position: relative;}#sk-container-id-1 div.sk-item::before, #sk-container-id-1 div.sk-parallel-item::before {content: \"\";position: absolute;border-left: 1px solid gray;box-sizing: border-box;top: 0;bottom: 0;left: 50%;z-index: -1;}#sk-container-id-1 div.sk-parallel-item {display: flex;flex-direction: column;z-index: 1;position: relative;background-color: white;}#sk-container-id-1 div.sk-parallel-item:first-child::after {align-self: flex-end;width: 50%;}#sk-container-id-1 div.sk-parallel-item:last-child::after {align-self: flex-start;width: 50%;}#sk-container-id-1 div.sk-parallel-item:only-child::after {width: 0;}#sk-container-id-1 div.sk-dashed-wrapped {border: 1px dashed gray;margin: 0 0.4em 0.5em 0.4em;box-sizing: border-box;padding-bottom: 0.4em;background-color: white;}#sk-container-id-1 div.sk-label label {font-family: monospace;font-weight: bold;display: inline-block;line-height: 1.2em;}#sk-container-id-1 div.sk-label-container {text-align: center;}#sk-container-id-1 div.sk-container {/* jupyter's `normalize.less` sets `[hidden] { display: none; }` but bootstrap.min.css set `[hidden] { display: none !important; }` so we also need the `!important` here to be able to override the default hidden behavior on the sphinx rendered scikit-learn.org. See: https://github.com/scikit-learn/scikit-learn/issues/21755 */display: inline-block !important;position: relative;}#sk-container-id-1 div.sk-text-repr-fallback {display: none;}</style><div id=\"sk-container-id-1\" class=\"sk-top-container\"><div class=\"sk-text-repr-fallback\"><pre>GaussianNB()</pre><b>In a Jupyter environment, please rerun this cell to show the HTML representation or trust the notebook. <br />On GitHub, the HTML representation is unable to render, please try loading this page with nbviewer.org.</b></div><div class=\"sk-container\" hidden><div class=\"sk-item\"><div class=\"sk-estimator sk-toggleable\"><input class=\"sk-toggleable__control sk-hidden--visually\" id=\"sk-estimator-id-1\" type=\"checkbox\" checked><label for=\"sk-estimator-id-1\" class=\"sk-toggleable__label sk-toggleable__label-arrow\">GaussianNB</label><div class=\"sk-toggleable__content\"><pre>GaussianNB()</pre></div></div></div></div></div>"
      ],
      "text/plain": [
       "GaussianNB()"
      ]
     },
     "execution_count": 18,
     "metadata": {},
     "output_type": "execute_result"
    }
   ],
   "source": [
    "from sklearn.naive_bayes import GaussianNB\n",
    "\n",
    "model = GaussianNB()\n",
    "model.fit(x_train, y_train)"
   ]
  },
  {
   "cell_type": "code",
   "execution_count": 19,
   "id": "99c744cf",
   "metadata": {},
   "outputs": [],
   "source": [
    "# Make predictions\n",
    "y_pred = model.predict(x_test)"
   ]
  },
  {
   "cell_type": "markdown",
   "id": "e844bf0a",
   "metadata": {},
   "source": [
    "Training a Naive Bayes model involves several steps, from preparing the data to evaluating the model. Here’s a detailed breakdown:\n",
    "\n",
    "**Data Preparation**:\n",
    "\n",
    "**Feature Selection**: Determine the features that will be used for training the model. Ensure that these features are appropriate for the Naive Bayes variant you plan to use.\n",
    "**Data Cleaning**: Address any missing values, handle outliers, and ensure the data is clean and formatted correctly.\n",
    "**Encoding Categorical Features**: Convert categorical features into numerical values if necessary. In Gaussian Naive Bayes, features should be continuous in nature. For Multinomial or Bernoulli Naive Bayes, categorical features may need specific encoding.\n",
    "Data Splitting:\n",
    "\n",
    "**Train-Test Split**: Train-test split is the process of splitting the dataset into training and testing set to evaluate the model’s performance. In general, splits include 70% for training and 30% for testing or 80% for training and 20% for testing.\n",
    "Feature Scaling (if applicable):\n",
    "\n",
    "**Standardization/Normalization**: While Gaussian Naive Bayes assumes normally distributed features, scaling (standardization or normalization) can help improve performance, especially if features have different units or scales.\n",
    "Model Initialization:\n",
    "\n",
    "Choose the Appropriate Naive Bayes Variant:\n",
    "**Gaussian Naive Bayes**: For continuous features assumed to follow a Gaussian distribution.\n",
    "**Multinomial Naive Bayes**: For count or frequency-based features.\n",
    "**Bernoulli Naive Bayes**: For binary/boolean features.\n",
    "\n",
    "**Model Training**:\n",
    "\n",
    "**Fit the Model**: Use the training data to train the model and this involves calculating:\n",
    "**Prior Probabilities**: The probability of each class.\n",
    "**Likelihood Probabilities**: The proportion of occurrences of feature values for each class.\n",
    "**Training Process**: For Gaussian Naive Bayes, compute the mean and variance of features for each class. For Multinomial Naive Bayes, calculate the frequency of feature occurrences.\n",
    "\n",
    "**Model Evaluation**:\n",
    "\n",
    "**Prediction**: We basically use the trained model to make predictions on the test set.\n",
    "**Performance Metrics**: To assess its performance, Evaluate the model using metrics such as accuracy, precision, recall, F1-score, and confusion matrix.\n",
    "\n",
    "**Hyperparameter Tuning (if necessary):**\n",
    "\n",
    "**Optimization**: Although Naive Bayes typically has fewer hyperparameters compared to other models, adjustments such as smoothing parameters in Multinomial Naive Bayes (e.g., alpha in Laplace smoothing) can be tuned for better performance.\n",
    "Model Validation:\n",
    "\n",
    "**Cross-Validation**: Optionally, perform cross-validation to assess how well the model generalizes to unseen data. This involves splitting the data into multiple subsets (folds) and training/testing the model on different combinations of these subsets.\n",
    "\n",
    "**Final Model Training:**\n",
    "\n",
    "Re-training on Full Data: Once the model is tuned and validated, you may choose to retrain it on the entire dataset to leverage all available data for final model training."
   ]
  },
  {
   "cell_type": "markdown",
   "id": "063c9122",
   "metadata": {},
   "source": [
    "### Model Evaluation\n"
   ]
  },
  {
   "cell_type": "markdown",
   "id": "049e3343",
   "metadata": {},
   "source": [
    "Sensitivity (Recall): The proportion of actually positive cases that were correctly classified by the model. It measures how good the model detects positive features.\n",
    "\n",
    "Precision: The proportion of predicted positive cases that were actually positive. It measures how many of the predicted positives are truly positive."
   ]
  },
  {
   "cell_type": "markdown",
   "id": "76940497",
   "metadata": {},
   "source": [
    "Evaluating model performance involves several metrics, each providing insights into different aspects of the model's effectiveness. \n",
    "\n",
    "1. **Accuracy**  :  It classified instances (both positive and negative) out of the total instances.\n",
    "\n",
    "2. **Sensitivity (Recall)**: Return the proportion of actual positive cases that are correctly identified by the model is termed as recall.\n",
    "\n",
    "3. **Precision**: The proportion of predicted positive cases that are actually positive.\n",
    "\n",
    "4. **F1 Score**: Precision and recall finding a common ground in their mean.\n",
    "\n",
    "5. **Area Under the ROC Curve (AUC-ROC)**:  The model's capacity in distinguishing classes is determined at all threshold values.\n",
    "\n",
    "6. **Area Under the Precision-Recall Curve (AUC-PR)**: Measures the trade-off between precision and recall across different thresholds. \n",
    "\n",
    "7. **Confusion Matrix**: A table that shows true positive, true negative, false positive, and false negative predictions. \n",
    "\n",
    "\n"
   ]
  },
  {
   "cell_type": "code",
   "execution_count": 20,
   "id": "6a8c4d76",
   "metadata": {},
   "outputs": [],
   "source": [
    "from sklearn.metrics import accuracy_score, classification_report , confusion_matrix\n",
    "\n",
    "# Evaluate the model\n",
    "accuracy = accuracy_score(y_test, y_pred)\n",
    "report = classification_report(y_test, y_pred)"
   ]
  },
  {
   "cell_type": "code",
   "execution_count": 21,
   "id": "ad774966",
   "metadata": {},
   "outputs": [
    {
     "data": {
      "text/plain": [
       "array([[83452,  1855],\n",
       "       [   21,   115]], dtype=int64)"
      ]
     },
     "execution_count": 21,
     "metadata": {},
     "output_type": "execute_result"
    }
   ],
   "source": [
    "cm = confusion_matrix(y_test, y_pred)\n",
    "cm"
   ]
  },
  {
   "cell_type": "code",
   "execution_count": 22,
   "id": "e4d70189",
   "metadata": {},
   "outputs": [
    {
     "name": "stdout",
     "output_type": "stream",
     "text": [
      "Accuracy: 0.98\n",
      "Classification Report:\n",
      "              precision    recall  f1-score   support\n",
      "\n",
      "           0       1.00      0.98      0.99     85307\n",
      "           1       0.06      0.85      0.11       136\n",
      "\n",
      "    accuracy                           0.98     85443\n",
      "   macro avg       0.53      0.91      0.55     85443\n",
      "weighted avg       1.00      0.98      0.99     85443\n",
      "\n"
     ]
    }
   ],
   "source": [
    "print(f'Accuracy: {accuracy:.2f}')\n",
    "print('Classification Report:')\n",
    "print(report)"
   ]
  },
  {
   "cell_type": "markdown",
   "id": "865c7d88",
   "metadata": {},
   "source": [
    "### Results and Interpretation\n"
   ]
  },
  {
   "cell_type": "markdown",
   "id": "c473eef8",
   "metadata": {},
   "source": [
    "To derive key findings from your model's predictions, you should analyze the results based on several performance metrics and insights. Here’s a structured approach to extracting key findings:\n",
    "\n",
    "### 1. **Overall Performance Metrics**\n",
    "\n",
    "- **Accuracy**: To provides correct proportion of overall True Positive. A high accuracy indicates that the model performs well across both classes, but may be misleading if the classes are imbalanced.\n",
    "\n",
    "- **Precision**: Precision help in to measures how many of the positive predictions are actually corrected. High precision indicates it is likely to be correct, that when the model predicts a positive class.\n",
    "\n",
    "- **Recall (Sensitivity)**: Recall helps in measuring how many of the actual positive cases were correctly recognized. High recall indicates that the model detects most of the positive cases but may include more false positives.\n",
    "\n",
    "- **F1 Score**:Precision and recall have been consolidated into a single metric.. It is especially useful when you need to balance precision and recall, providing a more holistic view of model performance.\n",
    "\n",
    "- **AUC-ROC**: Indicates how well the model separates classes across different thresholds. A better model is implied by a higher AUC-ROC number.\n",
    "\n",
    "- **AUC-PR**: Provides insights into precision-recall trade-offs, which can be useful for imbalanced datasets.\n",
    "\n",
    "### 2. **Confusion Matrix Analysis**\n",
    "\n",
    "- **True Positives (TP)**: Correctly predict positive class.\n",
    "- **False Positives (FP)**: The count of negative class misclassified as positive.\n",
    "- **True Negatives (TN)**: Correctly predict negative class.\n",
    "- **False Negatives (FN)**: The count of instances from the positive class misclassified as negative.\n",
    "\n",
    "From the confusion matrix:\n",
    "- **High TP** and **low FN**: Indicates effective detection of positive cases.\n",
    "- **Low FP**: Indicates effective filtering of negative cases.\n",
    "- **High TN**: Indicates effective detection of negative cases.\n",
    "\n",
    "### 3. **Error Analysis**\n",
    "\n",
    "- **False Positive Rate (FPR)**: \n",
    "  \\[\n",
    "  \\text{FPR} = \\frac{\\text{False Positives (FP)}}{\\text{False Positives (FP)} + \\text{True Negatives (TN)}}\n",
    "  \\]\n",
    "   Demonstrates the proportion of errors in identifying negatives as positives.\n",
    "\n",
    "- **False Negative Rate (FNR)**: \n",
    "  \\[\n",
    "  \\text{FNR} = \\frac{\\text{False Negatives (FN)}}{\\text{False Negatives (FN)} + \\text{True Positives (TP)}}\n",
    "  \\]\n",
    "  Demonstrates the error rate for identifying positives as negatives.\n",
    "\n",
    "- **Error Types**: Determine the types of errors your model makes (e.g., more false positives vs. false negatives) and their potential impact.\n",
    "\n",
    "### 4. **Model Calibration**\n",
    "\n",
    "- **Probability Scores**: Assess whether the probability scores provided by the model are well-calibrated. A well-calibrated model will always have the predicted probabilities mirror the actual chances of the positive class..\n",
    "\n",
    "### 5. **Feature Importance and Impact**\n",
    "\n",
    "- **Feature Analysis**: Evaluate which features contribute most to the model’s predictions. Understanding feature importance can provide insights into what drives model decisions and help in feature engineering or selection.\n",
    "\n",
    "### 6. **Comparative Analysis**\n",
    "\n",
    "- **Benchmarking**: Compare your model’s performance against baseline models or previous models to understand improvements or regressions.\n",
    "\n",
    "\n",
    "### Conclusion\n",
    "\n",
    "Your model performs well with a strong overall accuracy and high AUC-ROC. However, there are areas for improvement in precision and recall. The false positive rate suggests a need to reduce false positives, and the false negative rate indicates opportunities to capture more positive cases.\n",
    "\n",
    "This structured approach will help you draw actionable insights from your model’s predictions and guide further improvements."
   ]
  },
  {
   "cell_type": "code",
   "execution_count": 23,
   "id": "4828dee3",
   "metadata": {},
   "outputs": [
    {
     "data": {
      "text/plain": [
       "0.9119216218378051"
      ]
     },
     "execution_count": 23,
     "metadata": {},
     "output_type": "execute_result"
    }
   ],
   "source": [
    "from sklearn.metrics import roc_curve, auc\n",
    "\n",
    "fpr, tpr, _ = roc_curve(y_test, y_pred)\n",
    "roc_auc = auc(fpr, tpr)\n",
    "roc_auc"
   ]
  },
  {
   "cell_type": "markdown",
   "id": "f1503c08",
   "metadata": {},
   "source": [
    "Threshold values in classification models determine the point at which a predicted probability is converted into a class label. Altering the threshold parameter can result in significant fluctuations in the model's merit functions. Here’s a breakdown of how different threshold values impact key performance metrics:\n",
    "\n",
    "### 1. **Threshold and Classification Decisions**\n",
    "\n",
    "- **Default Threshold (0.5)**: By default, many classification models use a threshold of 0.5. When the predicted probability of a class exceeds 0.5, the instance will be labeled as belonging to that class; otherwise, it will be labeled as belonging to the other class.\n",
    "\n",
    "- **Lower Threshold**: Setting a lower threshold (e.g., 0.3) means that the model will classify more instances as positive because the probability required to make a positive classification is lower. This often increases the number of True Positives but also increases the number of False Positives.\n",
    "\n",
    "- **Higher Threshold**: Setting a higher threshold (e.g., 0.7) means that the model will classify fewer instances as positive because the probability required to make a positive classification is higher. This often decreases the number of False Positives but can also decrease the number of True Positives, leading to more False Negatives.\n",
    "\n",
    "### 2. **Impact on Performance Metrics**\n",
    "\n",
    "#### **Precision and Recall**\n",
    "\n",
    "- **Precision**:  Precision help in to measures how many of the positive predictions are actually corrected.\n",
    "  - **Lower Threshold**: Increases the number of positives predicted by the model, which may lead to a decrease in precision if many of these positives are actually negative (more False Positives).\n",
    "  - **Higher Threshold**: Reduces the number of positives predicted, which may lead to an increase in precision if the remaining positives are more likely to be true positives (fewer False Positives).\n",
    "\n",
    "- **Recall (Sensitivity)**: Measures the proportion of actual positives that are correctly predicted.\n",
    "  - **Lower Threshold**: Increase recall capacity by categorizing more occurrences as positive, resulting in a greater number of True Positives, but potentially resulting in an increase in False Positives.\n",
    "  - **Higher Threshold**: Decreases recall because fewer instances are classified as positive, which might miss some True Positives (more False Negatives).\n",
    "\n",
    "#### **F1 Score**\n",
    "\n",
    "- **F1 Score**: Precision and recall have been consolidated into a single metric. It balances both metrics.\n",
    "  - **Lower Threshold**: May increase recall at the expense of precision, which could result in a higher F1 score if the increase in recall outweighs the drop in precision.\n",
    "  - **Higher Threshold**: May increase precision at the expense of recall, which could result in a higher F1 score if the increase in precision outweighs the drop in recall.\n",
    "\n",
    "#### **ROC Curve and AUC**\n",
    "\n",
    "- **ROC Curve**: Illustrates the True Positive Rate (Recall) against the False Positive Rate at various threshold levels.\n",
    "  - **Lower Threshold**: Shifts the ROC curve's point upward and to the right, resulting in a higher True Positive Rate and False Positive Rate.\n",
    "  - **Higher Threshold**: Shifts the ROC curve's point downward and leftward, resulting in a decrease in True Positive Rate and False Positive Rate.\n",
    "\n",
    "- **AUC-ROC**: Region that lying under ROC curve.\n",
    "  - Regardless of the threshold used, the AUC-ROC value remains consistent. It summarizes the model’s ability to discriminate between classes over all thresholds.\n",
    "\n",
    "#### **Precision-Recall Curve and AUC-PR**\n",
    "\n",
    "- **Precision-Recall Curve**: Plots precision against recall at various threshold levels.\n",
    "  - **Lower Threshold**: Moves the point up and to the right, often improving recall at the expense of precision.\n",
    "  - **Higher Threshold**: Moves the point down and to the left, often improving precision at the expense of recall.\n",
    "\n",
    "- **AUC-PR**: The measure of the region lying beneath the Precision-Recall curve.\n",
    "  - **AUC-PR** provides an aggregate measure of the model’s performance across different thresholds, especially useful in imbalanced datasets.\n",
    "\n",
    "### 3. **Choosing the Right Threshold**\n",
    "\n",
    "- **Business Objective**: The threshold to be used is determined by the specific business challenge and the expense associated with diverse types of mistakes. For instance, in medical diagnostics, you might prefer a lower threshold to ensure you catch as many positives as possible, even if it means more false positives.\n",
    "\n",
    "- **Trade-offs**: The precision-recall balance must be considered when adjusting the threshold. You can choose a threshold that optimizes the metric most important for your application.\n",
    "\n",
    "- **Threshold Tuning**: You can use techniques like cross-validation to find the optimal threshold that balances the trade-offs according to your evaluation criteria.\n",
    "\n",
    "### Example\n",
    "\n",
    "A binary classification model is used to determine if a customer will churn:\n",
    "- **Lower Threshold (e.g., 0.3)**: Classifies more customers as likely to churn, potentially increasing recall but decreasing precision.\n",
    "- **Higher Threshold (e.g., 0.7)**: Classifies fewer customers as likely to churn, potentially increasing precision but decreasing recall.\n",
    "\n",
    "By examining how different thresholds affect precision, recall, and other metrics, you can make an informed decision about the threshold that best aligns with your goals and the cost implications of false positives and false negatives."
   ]
  },
  {
   "cell_type": "code",
   "execution_count": 24,
   "id": "10328c79",
   "metadata": {},
   "outputs": [],
   "source": [
    "# Predict probabilities for the test set\n",
    "y_probs = model.predict_proba(x_test)[:, 1]  # Probability of the positive class\n",
    "\n",
    "from sklearn.metrics import precision_score, recall_score, f1_score, roc_curve, auc, roc_auc_score\n",
    "\n",
    "def evaluate_thresholds(y_true, y_probs, thresholds):\n",
    "    precisions = []\n",
    "    recalls = []\n",
    "    f1_scores = []\n",
    "    \n",
    "    for threshold in thresholds:\n",
    "        y_pred = (y_probs >= threshold).astype(int)\n",
    "        precision = precision_score(y_true, y_pred)\n",
    "        recall = recall_score(y_true, y_pred)\n",
    "        f1 = f1_score(y_true, y_pred)\n",
    "        \n",
    "        precisions.append(precision)\n",
    "        recalls.append(recall)\n",
    "        f1_scores.append(f1)\n",
    "        \n",
    "    return precisions, recalls, f1_scores\n",
    "\n",
    "# Define thresholds\n",
    "thresholds = np.linspace(0, 1, 100)\n",
    "\n",
    "# Evaluate metrics for different thresholds\n",
    "precisions, recalls, f1_scores = evaluate_thresholds(y_test, y_probs, thresholds)"
   ]
  },
  {
   "cell_type": "code",
   "execution_count": 25,
   "id": "9ca83c48",
   "metadata": {},
   "outputs": [
    {
     "data": {
      "image/png": "[encoded data removed]",
      "text/plain": [
       "<Figure size 640x480 with 1 Axes>"
      ]
     },
     "metadata": {},
     "output_type": "display_data"
    }
   ],
   "source": [
    "# Plot F1 Score vs. Threshold\n",
    "plt.subplot(1, 2, 2)\n",
    "plt.plot(thresholds, f1_scores, label='F1 Score', color='green')\n",
    "plt.xlabel('Threshold')\n",
    "plt.ylabel('F1 Score')\n",
    "plt.title('F1 Score vs. Threshold')\n",
    "plt.legend()\n",
    "\n",
    "plt.tight_layout()\n",
    "plt.show()\n"
   ]
  },
  {
   "cell_type": "markdown",
   "id": "c607ecf9",
   "metadata": {},
   "source": [
    "### Model Improvement\n"
   ]
  },
  {
   "cell_type": "markdown",
   "id": "4b64e1b6",
   "metadata": {},
   "source": [
    "### Naive Bayes in Fraud Detection: Strengths and Limitations\n",
    "\n",
    "**Strengths**:\n",
    "- **Effective for certain types of data**: Works well with simple and independent features.\n",
    "\n",
    "**Limitations**:\n",
    "1. **Assumption of Feature Independence**:\n",
    "   - **Issue**: Naive Bayes assumes features are independent, which is often not true in real-world data where features can be correlated.\n",
    "   - **Impact**: This can reduce accuracy as it oversimplifies the data.\n",
    "\n",
    "2. **Handling Imbalanced Classes**:\n",
    "   - **Issue**: The issue arises here is that fraudulent transactions are rarely compared to legitimate ones.\n",
    "   - **Impact**: The model might become biased for legitimate transactions, potentially overlooking fraudulent ones.\n",
    "\n",
    "3. **Sensitivity to Noisy Data**:\n",
    "   - **Issue**: Naive Bayes can be affected by noisy or irrelevant features.\n",
    "   - **Impact**: Noise can lead to inaccurate predictions as the model relies on accurate feature probabilities.\n",
    "\n",
    "4. **Feature Engineering Requirement**:\n",
    "   - **Issue**: Requires careful crafting of features to capture meaningful patterns.\n",
    "   - **Impact**: Without effective feature engineering, the model may miss important fraud indicators.\n",
    "\n",
    "5. **Limited Expressiveness**:\n",
    "   - **Issue**: It's a simple model and might not capture complex data patterns.\n",
    "   - **Impact**: May not detect sophisticated fraud schemes as effectively as advanced models.\n",
    "\n",
    "6. **Difficulty with Continuous Features**:\n",
    "   - **Issue**: Often requires discretizing continuous features or assuming a specific distribution.\n",
    "   - **Impact**: If the assumption is incorrect, it can lead to poor performance.\n",
    "\n",
    "7. **No Model Updating**:\n",
    "   - **Issue**: Does not update dynamically with new data.\n",
    "   - **Impact**: Needs regular retraining to adapt to new fraud patterns, or it may miss emerging tactics.\n",
    "\n",
    "**Mitigating Limitations**:\n",
    "- **Feature Engineering**: Carefully design and select features to reduce noise and capture relevant patterns.\n",
    "- **Handling Imbalance**: Use techniques like resampling or class weighting to balance the dataset.\n",
    "- **Combining Models**: Use Naive Bayes alongside other models to leverage strengths and cover weaknesses.\n",
    "- **Regular Updates**: Frequently update the model with new data to keep up with evolving fraud tactics.\n",
    "\n",
    "Despite its limitations, Naive Bayes can be useful when combined with other methods to enhance fraud detection."
   ]
  },
  {
   "cell_type": "markdown",
   "id": "5d565cf1",
   "metadata": {},
   "source": [
    "Now , let's compare with other algorithm that which one is better "
   ]
  },
  {
   "cell_type": "code",
   "execution_count": 26,
   "id": "e9d60114",
   "metadata": {},
   "outputs": [
    {
     "data": {
      "text/html": [
       "<style>#sk-container-id-2 {color: black;}#sk-container-id-2 pre{padding: 0;}#sk-container-id-2 div.sk-toggleable {background-color: white;}#sk-container-id-2 label.sk-toggleable__label {cursor: pointer;display: block;width: 100%;margin-bottom: 0;padding: 0.3em;box-sizing: border-box;text-align: center;}#sk-container-id-2 label.sk-toggleable__label-arrow:before {content: \"▸\";float: left;margin-right: 0.25em;color: #696969;}#sk-container-id-2 label.sk-toggleable__label-arrow:hover:before {color: black;}#sk-container-id-2 div.sk-estimator:hover label.sk-toggleable__label-arrow:before {color: black;}#sk-container-id-2 div.sk-toggleable__content {max-height: 0;max-width: 0;overflow: hidden;text-align: left;background-color: #f0f8ff;}#sk-container-id-2 div.sk-toggleable__content pre {margin: 0.2em;color: black;border-radius: 0.25em;background-color: #f0f8ff;}#sk-container-id-2 input.sk-toggleable__control:checked~div.sk-toggleable__content {max-height: 200px;max-width: 100%;overflow: auto;}#sk-container-id-2 input.sk-toggleable__control:checked~label.sk-toggleable__label-arrow:before {content: \"▾\";}#sk-container-id-2 div.sk-estimator input.sk-toggleable__control:checked~label.sk-toggleable__label {background-color: #d4ebff;}#sk-container-id-2 div.sk-label input.sk-toggleable__control:checked~label.sk-toggleable__label {background-color: #d4ebff;}#sk-container-id-2 input.sk-hidden--visually {border: 0;clip: rect(1px 1px 1px 1px);clip: rect(1px, 1px, 1px, 1px);height: 1px;margin: -1px;overflow: hidden;padding: 0;position: absolute;width: 1px;}#sk-container-id-2 div.sk-estimator {font-family: monospace;background-color: #f0f8ff;border: 1px dotted black;border-radius: 0.25em;box-sizing: border-box;margin-bottom: 0.5em;}#sk-container-id-2 div.sk-estimator:hover {background-color: #d4ebff;}#sk-container-id-2 div.sk-parallel-item::after {content: \"\";width: 100%;border-bottom: 1px solid gray;flex-grow: 1;}#sk-container-id-2 div.sk-label:hover label.sk-toggleable__label {background-color: #d4ebff;}#sk-container-id-2 div.sk-serial::before {content: \"\";position: absolute;border-left: 1px solid gray;box-sizing: border-box;top: 0;bottom: 0;left: 50%;z-index: 0;}#sk-container-id-2 div.sk-serial {display: flex;flex-direction: column;align-items: center;background-color: white;padding-right: 0.2em;padding-left: 0.2em;position: relative;}#sk-container-id-2 div.sk-item {position: relative;z-index: 1;}#sk-container-id-2 div.sk-parallel {display: flex;align-items: stretch;justify-content: center;background-color: white;position: relative;}#sk-container-id-2 div.sk-item::before, #sk-container-id-2 div.sk-parallel-item::before {content: \"\";position: absolute;border-left: 1px solid gray;box-sizing: border-box;top: 0;bottom: 0;left: 50%;z-index: -1;}#sk-container-id-2 div.sk-parallel-item {display: flex;flex-direction: column;z-index: 1;position: relative;background-color: white;}#sk-container-id-2 div.sk-parallel-item:first-child::after {align-self: flex-end;width: 50%;}#sk-container-id-2 div.sk-parallel-item:last-child::after {align-self: flex-start;width: 50%;}#sk-container-id-2 div.sk-parallel-item:only-child::after {width: 0;}#sk-container-id-2 div.sk-dashed-wrapped {border: 1px dashed gray;margin: 0 0.4em 0.5em 0.4em;box-sizing: border-box;padding-bottom: 0.4em;background-color: white;}#sk-container-id-2 div.sk-label label {font-family: monospace;font-weight: bold;display: inline-block;line-height: 1.2em;}#sk-container-id-2 div.sk-label-container {text-align: center;}#sk-container-id-2 div.sk-container {/* jupyter's `normalize.less` sets `[hidden] { display: none; }` but bootstrap.min.css set `[hidden] { display: none !important; }` so we also need the `!important` here to be able to override the default hidden behavior on the sphinx rendered scikit-learn.org. See: https://github.com/scikit-learn/scikit-learn/issues/21755 */display: inline-block !important;position: relative;}#sk-container-id-2 div.sk-text-repr-fallback {display: none;}</style><div id=\"sk-container-id-2\" class=\"sk-top-container\"><div class=\"sk-text-repr-fallback\"><pre>LogisticRegression()</pre><b>In a Jupyter environment, please rerun this cell to show the HTML representation or trust the notebook. <br />On GitHub, the HTML representation is unable to render, please try loading this page with nbviewer.org.</b></div><div class=\"sk-container\" hidden><div class=\"sk-item\"><div class=\"sk-estimator sk-toggleable\"><input class=\"sk-toggleable__control sk-hidden--visually\" id=\"sk-estimator-id-2\" type=\"checkbox\" checked><label for=\"sk-estimator-id-2\" class=\"sk-toggleable__label sk-toggleable__label-arrow\">LogisticRegression</label><div class=\"sk-toggleable__content\"><pre>LogisticRegression()</pre></div></div></div></div></div>"
      ],
      "text/plain": [
       "LogisticRegression()"
      ]
     },
     "execution_count": 26,
     "metadata": {},
     "output_type": "execute_result"
    }
   ],
   "source": [
    "#Logistic Regression \n",
    "from sklearn.linear_model import LogisticRegression\n",
    "\n",
    "# Train the model\n",
    "lr = LogisticRegression()\n",
    "lr.fit(x_train, y_train)\n"
   ]
  },
  {
   "cell_type": "code",
   "execution_count": 27,
   "id": "81427e9a",
   "metadata": {},
   "outputs": [
    {
     "name": "stdout",
     "output_type": "stream",
     "text": [
      "Logistic Regression:\n",
      "[[85295    12]\n",
      " [   50    86]]\n",
      "              precision    recall  f1-score   support\n",
      "\n",
      "           0       1.00      1.00      1.00     85307\n",
      "           1       0.88      0.63      0.74       136\n",
      "\n",
      "    accuracy                           1.00     85443\n",
      "   macro avg       0.94      0.82      0.87     85443\n",
      "weighted avg       1.00      1.00      1.00     85443\n",
      "\n",
      "ROC AUC Score: 0.9783093967187025\n",
      "Accuracy: 1.00\n"
     ]
    }
   ],
   "source": [
    "# Predictions and evaluation\n",
    "y_pred_lr = lr.predict(x_test)\n",
    "print(\"Logistic Regression:\")\n",
    "print(confusion_matrix(y_test, y_pred_lr))\n",
    "print(classification_report(y_test, y_pred_lr))\n",
    "print(\"ROC AUC Score:\", roc_auc_score(y_test, lr.predict_proba(x_test)[:, 1]))\n",
    "\n",
    "lr_accuracy = accuracy_score(y_test, y_pred_lr)\n",
    "print(f'Accuracy: {lr_accuracy:.2f}')\n"
   ]
  },
  {
   "cell_type": "code",
   "execution_count": 28,
   "id": "aa21bbce",
   "metadata": {},
   "outputs": [
    {
     "data": {
      "text/html": [
       "<style>#sk-container-id-3 {color: black;}#sk-container-id-3 pre{padding: 0;}#sk-container-id-3 div.sk-toggleable {background-color: white;}#sk-container-id-3 label.sk-toggleable__label {cursor: pointer;display: block;width: 100%;margin-bottom: 0;padding: 0.3em;box-sizing: border-box;text-align: center;}#sk-container-id-3 label.sk-toggleable__label-arrow:before {content: \"▸\";float: left;margin-right: 0.25em;color: #696969;}#sk-container-id-3 label.sk-toggleable__label-arrow:hover:before {color: black;}#sk-container-id-3 div.sk-estimator:hover label.sk-toggleable__label-arrow:before {color: black;}#sk-container-id-3 div.sk-toggleable__content {max-height: 0;max-width: 0;overflow: hidden;text-align: left;background-color: #f0f8ff;}#sk-container-id-3 div.sk-toggleable__content pre {margin: 0.2em;color: black;border-radius: 0.25em;background-color: #f0f8ff;}#sk-container-id-3 input.sk-toggleable__control:checked~div.sk-toggleable__content {max-height: 200px;max-width: 100%;overflow: auto;}#sk-container-id-3 input.sk-toggleable__control:checked~label.sk-toggleable__label-arrow:before {content: \"▾\";}#sk-container-id-3 div.sk-estimator input.sk-toggleable__control:checked~label.sk-toggleable__label {background-color: #d4ebff;}#sk-container-id-3 div.sk-label input.sk-toggleable__control:checked~label.sk-toggleable__label {background-color: #d4ebff;}#sk-container-id-3 input.sk-hidden--visually {border: 0;clip: rect(1px 1px 1px 1px);clip: rect(1px, 1px, 1px, 1px);height: 1px;margin: -1px;overflow: hidden;padding: 0;position: absolute;width: 1px;}#sk-container-id-3 div.sk-estimator {font-family: monospace;background-color: #f0f8ff;border: 1px dotted black;border-radius: 0.25em;box-sizing: border-box;margin-bottom: 0.5em;}#sk-container-id-3 div.sk-estimator:hover {background-color: #d4ebff;}#sk-container-id-3 div.sk-parallel-item::after {content: \"\";width: 100%;border-bottom: 1px solid gray;flex-grow: 1;}#sk-container-id-3 div.sk-label:hover label.sk-toggleable__label {background-color: #d4ebff;}#sk-container-id-3 div.sk-serial::before {content: \"\";position: absolute;border-left: 1px solid gray;box-sizing: border-box;top: 0;bottom: 0;left: 50%;z-index: 0;}#sk-container-id-3 div.sk-serial {display: flex;flex-direction: column;align-items: center;background-color: white;padding-right: 0.2em;padding-left: 0.2em;position: relative;}#sk-container-id-3 div.sk-item {position: relative;z-index: 1;}#sk-container-id-3 div.sk-parallel {display: flex;align-items: stretch;justify-content: center;background-color: white;position: relative;}#sk-container-id-3 div.sk-item::before, #sk-container-id-3 div.sk-parallel-item::before {content: \"\";position: absolute;border-left: 1px solid gray;box-sizing: border-box;top: 0;bottom: 0;left: 50%;z-index: -1;}#sk-container-id-3 div.sk-parallel-item {display: flex;flex-direction: column;z-index: 1;position: relative;background-color: white;}#sk-container-id-3 div.sk-parallel-item:first-child::after {align-self: flex-end;width: 50%;}#sk-container-id-3 div.sk-parallel-item:last-child::after {align-self: flex-start;width: 50%;}#sk-container-id-3 div.sk-parallel-item:only-child::after {width: 0;}#sk-container-id-3 div.sk-dashed-wrapped {border: 1px dashed gray;margin: 0 0.4em 0.5em 0.4em;box-sizing: border-box;padding-bottom: 0.4em;background-color: white;}#sk-container-id-3 div.sk-label label {font-family: monospace;font-weight: bold;display: inline-block;line-height: 1.2em;}#sk-container-id-3 div.sk-label-container {text-align: center;}#sk-container-id-3 div.sk-container {/* jupyter's `normalize.less` sets `[hidden] { display: none; }` but bootstrap.min.css set `[hidden] { display: none !important; }` so we also need the `!important` here to be able to override the default hidden behavior on the sphinx rendered scikit-learn.org. See: https://github.com/scikit-learn/scikit-learn/issues/21755 */display: inline-block !important;position: relative;}#sk-container-id-3 div.sk-text-repr-fallback {display: none;}</style><div id=\"sk-container-id-3\" class=\"sk-top-container\"><div class=\"sk-text-repr-fallback\"><pre>RandomForestClassifier(n_estimators=10, random_state=42)</pre><b>In a Jupyter environment, please rerun this cell to show the HTML representation or trust the notebook. <br />On GitHub, the HTML representation is unable to render, please try loading this page with nbviewer.org.</b></div><div class=\"sk-container\" hidden><div class=\"sk-item\"><div class=\"sk-estimator sk-toggleable\"><input class=\"sk-toggleable__control sk-hidden--visually\" id=\"sk-estimator-id-3\" type=\"checkbox\" checked><label for=\"sk-estimator-id-3\" class=\"sk-toggleable__label sk-toggleable__label-arrow\">RandomForestClassifier</label><div class=\"sk-toggleable__content\"><pre>RandomForestClassifier(n_estimators=10, random_state=42)</pre></div></div></div></div></div>"
      ],
      "text/plain": [
       "RandomForestClassifier(n_estimators=10, random_state=42)"
      ]
     },
     "execution_count": 28,
     "metadata": {},
     "output_type": "execute_result"
    }
   ],
   "source": [
    "from sklearn.ensemble import RandomForestClassifier\n",
    "model = RandomForestClassifier(n_estimators=10, random_state=42)\n",
    "model.fit(x_train, y_train)"
   ]
  },
  {
   "cell_type": "code",
   "execution_count": 29,
   "id": "359a8a36",
   "metadata": {},
   "outputs": [
    {
     "name": "stdout",
     "output_type": "stream",
     "text": [
      "Random Forest:\n",
      "[[85300     7]\n",
      " [   30   106]]\n",
      "              precision    recall  f1-score   support\n",
      "\n",
      "           0       1.00      1.00      1.00     85307\n",
      "           1       0.94      0.78      0.85       136\n",
      "\n",
      "    accuracy                           1.00     85443\n",
      "   macro avg       0.97      0.89      0.93     85443\n",
      "weighted avg       1.00      1.00      1.00     85443\n",
      "\n",
      "ROC AUC Score: 0.9482176054099415\n",
      "Accuracy: 1.00\n"
     ]
    }
   ],
   "source": [
    "y_pred_rf = model.predict(x_test)\n",
    "\n",
    "print(\"Random Forest:\")\n",
    "print(confusion_matrix(y_test, y_pred_rf))\n",
    "print(classification_report(y_test, y_pred_rf))\n",
    "print(\"ROC AUC Score:\", roc_auc_score(y_test, model.predict_proba(x_test)[:, 1]))\n",
    "\n",
    "rf_accuracy = accuracy_score(y_test, y_pred_rf)\n",
    "print(f'Accuracy: {rf_accuracy:.2f}')"
   ]
  },
  {
   "cell_type": "markdown",
   "id": "fd5687b0",
   "metadata": {},
   "source": [
    "As  according to my prospective , accuracy should not be 100%; if it represents 100% , it means model is overtrained "
   ]
  },
  {
   "cell_type": "markdown",
   "id": "394f8e9f",
   "metadata": {},
   "source": [
    "### Practical Implementation\n"
   ]
  },
  {
   "cell_type": "markdown",
   "id": "95808739",
   "metadata": {},
   "source": [
    "Deploying a fraud detection model involves several important ethical considerations to ensure it is fair, transparent, and responsible. Here's a clearer explanation of the main ideas:\n",
    "\n",
    "### 1. **Privacy**\n",
    "\n",
    "- **Data Collection and Usage**: Make sure personal data is collected and used legally (like GDPR and CCPA rules). Inform users regarding the collection of their data and provide them with the power to manage it.\n",
    "- **Data Security**: Protect sensitive data with strong security measures to prevent breaches. Encrypt data during transfer and storage.\n",
    "\n",
    "### 2. **Bias and Fairness**\n",
    "\n",
    "- **Algorithmic Bias**: Be aware of and reduce biases in the model. Biases, if left unchecked, can result in unfair treatment for specific populations.\n",
    "- **Fairness**: Ensure the model treats all demographics fairly. Regularly check and adjust the model to maintain equity.\n",
    "\n",
    "### 3. **Transparency**\n",
    "\n",
    "- **Model Explainability**: Make the model's workings and decision factors clear. Users and stakeholders should have a transparent understanding of the decision-making process.\n",
    "- **Clear Communication**: Inform users about the model's limitations and the possibility of errors, such as false positives or negatives.\n",
    "\n",
    "### 4. **Accountability**\n",
    "\n",
    "- **Human Oversight**: Include human review for critical decisions, especially those significantly affecting individuals. Automated systems should assist, not replace, human judgment.\n",
    "- **Redress Mechanisms**: Provide ways for individuals to appeal or challenge the model's decisions and have processes to correct mistakes.\n",
    "\n",
    "### 5. **Impact on Users**\n",
    "\n",
    "- **False Positives and Negatives**: Minimize errors to avoid inconveniencing users or causing financial loss.\n",
    "- **User Experience**: Ensure the fraud detection process is user-friendly and doesn’t create unnecessary burdens.\n",
    "\n",
    "### 6. **Legal and Regulatory Compliance**\n",
    "\n",
    "- **Regulations**: Follow laws and regulations related to fraud detection and data protection. Stay updated on legal requirements.\n",
    "- **Ethical Standards**: Follow ethical guidelines and best practices in AI and machine learning. Consult ethical review boards if possible.\n",
    "\n",
    "### 7. **Model Evolution and Maintenance**\n",
    "\n",
    "- **Continuous Improvement**: Regularly update the model to address new fraud patterns and user behaviors. Ensure updates don’t introduce new biases.\n",
    "- **Stakeholder Engagement**: Involve users and other stakeholders in discussions about the model’s impact. Consider their feedback in decisions.\n",
    "\n",
    "### Example Considerations\n",
    "\n",
    "- **Scenario**: A transaction is wrongly flagged as fraudulent.\n",
    "  - **Solution**: Quickly notify the user and provide a way to resolve the issue.\n",
    "\n",
    "- **Scenario**: The model unfairly targets transactions from certain areas.\n",
    "  - **Solution**: Investigate and fix any biases. Ensure fair treatment for all regions.\n",
    "\n",
    "Addressing these ethical considerations helps build trust in your fraud detection system and ensures it operates fairly and responsibly."
   ]
  },
  {
   "cell_type": "markdown",
   "id": "fb6e90e7",
   "metadata": {},
   "source": [
    "### Technical Implementation\n"
   ]
  },
  {
   "cell_type": "code",
   "execution_count": 33,
   "id": "02e2f14f",
   "metadata": {},
   "outputs": [],
   "source": [
    "# steps to implement Naive Bayes "
   ]
  },
  {
   "cell_type": "raw",
   "id": "cfaea1d2",
   "metadata": {},
   "source": [
    " Import Libraries"
   ]
  },
  {
   "cell_type": "code",
   "execution_count": 34,
   "id": "0f9c7136",
   "metadata": {},
   "outputs": [],
   "source": [
    "import numpy as np\n",
    "import pandas as pd\n",
    "from sklearn.model_selection import train_test_split\n",
    "from sklearn.naive_bayes import GaussianNB, MultinomialNB, BernoulliNB\n",
    "from sklearn.metrics import accuracy_score, precision_score, recall_score, f1_score, confusion_matrix\n"
   ]
  },
  {
   "cell_type": "raw",
   "id": "717f23f0",
   "metadata": {},
   "source": [
    "Load and Prepare Data"
   ]
  },
  {
   "cell_type": "code",
   "execution_count": 35,
   "id": "aad6713f",
   "metadata": {},
   "outputs": [],
   "source": [
    "# Load your dataset\n",
    "data = pd.read_csv('Credit Card.csv')\n",
    "\n",
    "# Separate features and target\n",
    "x = data.drop(columns='Class')  # Features\n",
    "y = data['Class']               # Target\n",
    "\n",
    "# Split the dataset into training and test sets\n",
    "x_train, x_test, y_train, y_test = train_test_split(x, y, test_size=0.3, random_state=42)\n"
   ]
  },
  {
   "cell_type": "raw",
   "id": "680333e7",
   "metadata": {},
   "source": [
    "Choose and Initialize the Model"
   ]
  },
  {
   "cell_type": "code",
   "execution_count": 36,
   "id": "b6cd23b4",
   "metadata": {},
   "outputs": [],
   "source": [
    "# Initialize the model\n",
    "model = GaussianNB()  # For continuous features\n",
    "# model = MultinomialNB()  # For categorical features\n",
    "# model = BernoulliNB()  # For binary features\n"
   ]
  },
  {
   "cell_type": "raw",
   "id": "2315e061",
   "metadata": {},
   "source": [
    " Train the Model"
   ]
  },
  {
   "cell_type": "code",
   "execution_count": 37,
   "id": "082b25c4",
   "metadata": {},
   "outputs": [
    {
     "data": {
      "text/html": [
       "<style>#sk-container-id-5 {color: black;}#sk-container-id-5 pre{padding: 0;}#sk-container-id-5 div.sk-toggleable {background-color: white;}#sk-container-id-5 label.sk-toggleable__label {cursor: pointer;display: block;width: 100%;margin-bottom: 0;padding: 0.3em;box-sizing: border-box;text-align: center;}#sk-container-id-5 label.sk-toggleable__label-arrow:before {content: \"▸\";float: left;margin-right: 0.25em;color: #696969;}#sk-container-id-5 label.sk-toggleable__label-arrow:hover:before {color: black;}#sk-container-id-5 div.sk-estimator:hover label.sk-toggleable__label-arrow:before {color: black;}#sk-container-id-5 div.sk-toggleable__content {max-height: 0;max-width: 0;overflow: hidden;text-align: left;background-color: #f0f8ff;}#sk-container-id-5 div.sk-toggleable__content pre {margin: 0.2em;color: black;border-radius: 0.25em;background-color: #f0f8ff;}#sk-container-id-5 input.sk-toggleable__control:checked~div.sk-toggleable__content {max-height: 200px;max-width: 100%;overflow: auto;}#sk-container-id-5 input.sk-toggleable__control:checked~label.sk-toggleable__label-arrow:before {content: \"▾\";}#sk-container-id-5 div.sk-estimator input.sk-toggleable__control:checked~label.sk-toggleable__label {background-color: #d4ebff;}#sk-container-id-5 div.sk-label input.sk-toggleable__control:checked~label.sk-toggleable__label {background-color: #d4ebff;}#sk-container-id-5 input.sk-hidden--visually {border: 0;clip: rect(1px 1px 1px 1px);clip: rect(1px, 1px, 1px, 1px);height: 1px;margin: -1px;overflow: hidden;padding: 0;position: absolute;width: 1px;}#sk-container-id-5 div.sk-estimator {font-family: monospace;background-color: #f0f8ff;border: 1px dotted black;border-radius: 0.25em;box-sizing: border-box;margin-bottom: 0.5em;}#sk-container-id-5 div.sk-estimator:hover {background-color: #d4ebff;}#sk-container-id-5 div.sk-parallel-item::after {content: \"\";width: 100%;border-bottom: 1px solid gray;flex-grow: 1;}#sk-container-id-5 div.sk-label:hover label.sk-toggleable__label {background-color: #d4ebff;}#sk-container-id-5 div.sk-serial::before {content: \"\";position: absolute;border-left: 1px solid gray;box-sizing: border-box;top: 0;bottom: 0;left: 50%;z-index: 0;}#sk-container-id-5 div.sk-serial {display: flex;flex-direction: column;align-items: center;background-color: white;padding-right: 0.2em;padding-left: 0.2em;position: relative;}#sk-container-id-5 div.sk-item {position: relative;z-index: 1;}#sk-container-id-5 div.sk-parallel {display: flex;align-items: stretch;justify-content: center;background-color: white;position: relative;}#sk-container-id-5 div.sk-item::before, #sk-container-id-5 div.sk-parallel-item::before {content: \"\";position: absolute;border-left: 1px solid gray;box-sizing: border-box;top: 0;bottom: 0;left: 50%;z-index: -1;}#sk-container-id-5 div.sk-parallel-item {display: flex;flex-direction: column;z-index: 1;position: relative;background-color: white;}#sk-container-id-5 div.sk-parallel-item:first-child::after {align-self: flex-end;width: 50%;}#sk-container-id-5 div.sk-parallel-item:last-child::after {align-self: flex-start;width: 50%;}#sk-container-id-5 div.sk-parallel-item:only-child::after {width: 0;}#sk-container-id-5 div.sk-dashed-wrapped {border: 1px dashed gray;margin: 0 0.4em 0.5em 0.4em;box-sizing: border-box;padding-bottom: 0.4em;background-color: white;}#sk-container-id-5 div.sk-label label {font-family: monospace;font-weight: bold;display: inline-block;line-height: 1.2em;}#sk-container-id-5 div.sk-label-container {text-align: center;}#sk-container-id-5 div.sk-container {/* jupyter's `normalize.less` sets `[hidden] { display: none; }` but bootstrap.min.css set `[hidden] { display: none !important; }` so we also need the `!important` here to be able to override the default hidden behavior on the sphinx rendered scikit-learn.org. See: https://github.com/scikit-learn/scikit-learn/issues/21755 */display: inline-block !important;position: relative;}#sk-container-id-5 div.sk-text-repr-fallback {display: none;}</style><div id=\"sk-container-id-5\" class=\"sk-top-container\"><div class=\"sk-text-repr-fallback\"><pre>GaussianNB()</pre><b>In a Jupyter environment, please rerun this cell to show the HTML representation or trust the notebook. <br />On GitHub, the HTML representation is unable to render, please try loading this page with nbviewer.org.</b></div><div class=\"sk-container\" hidden><div class=\"sk-item\"><div class=\"sk-estimator sk-toggleable\"><input class=\"sk-toggleable__control sk-hidden--visually\" id=\"sk-estimator-id-5\" type=\"checkbox\" checked><label for=\"sk-estimator-id-5\" class=\"sk-toggleable__label sk-toggleable__label-arrow\">GaussianNB</label><div class=\"sk-toggleable__content\"><pre>GaussianNB()</pre></div></div></div></div></div>"
      ],
      "text/plain": [
       "GaussianNB()"
      ]
     },
     "execution_count": 37,
     "metadata": {},
     "output_type": "execute_result"
    }
   ],
   "source": [
    "# Initialize and train model\n",
    "model.fit(x_train, y_train)\n"
   ]
  },
  {
   "cell_type": "raw",
   "id": "32c35690",
   "metadata": {},
   "source": [
    "Make Predictions"
   ]
  },
  {
   "cell_type": "code",
   "execution_count": 39,
   "id": "8f8000b2",
   "metadata": {},
   "outputs": [],
   "source": [
    "# Predict\n",
    "y_pred = model.predict(x_test)"
   ]
  },
  {
   "cell_type": "raw",
   "id": "7700a9df",
   "metadata": {},
   "source": [
    "Evaluate"
   ]
  },
  {
   "cell_type": "code",
   "execution_count": 40,
   "id": "f40c7fea",
   "metadata": {},
   "outputs": [
    {
     "name": "stdout",
     "output_type": "stream",
     "text": [
      "Accuracy: 0.99\n",
      "Precision: 0.14\n",
      "Recall: 0.66\n",
      "F1 Score: 0.23\n",
      "Confusion Matrix:\n",
      "[[84759   548]\n",
      " [   46    90]]\n"
     ]
    }
   ],
   "source": [
    "# Evaluate\n",
    "accuracy = accuracy_score(y_test, y_pred)\n",
    "precision = precision_score(y_test, y_pred)\n",
    "recall = recall_score(y_test, y_pred)\n",
    "f1 = f1_score(y_test, y_pred)\n",
    "conf_matrix = confusion_matrix(y_test, y_pred)\n",
    "\n",
    "print(f'Accuracy: {accuracy:.2f}')\n",
    "print(f'Precision: {precision:.2f}')\n",
    "print(f'Recall: {recall:.2f}')\n",
    "print(f'F1 Score: {f1:.2f}')\n",
    "print(f'Confusion Matrix:\\n{conf_matrix}')"
   ]
  },
  {
   "cell_type": "markdown",
   "id": "7baa8d36",
   "metadata": {},
   "source": [
    "Cross-validation is an effective method for enhancing performance and model evaluation in machine learning. This method can result in a more effective model for you:\n",
    "\n",
    "### 1. **More Reliable Performance Estimates**\n",
    "\n",
    "**a. **Reduced Overfitting**: Cross-validation helps in assessing how well the model generalizes to unseen data. By training and validating the model on different subsets of the data, it provides a more reliable estimate of the model’s performance and reduces the likelihood of overfitting.\n",
    "\n",
    "**b. **Variance Reduction**: It reduces the variance in performance estimates that may arise from a single train-test split. This means the performance metrics (like accuracy, precision, recall) are averaged over multiple folds, leading to a more stable and accurate estimate of model performance.\n",
    "\n",
    "### 2. **Better Utilization of Data**\n",
    "\n",
    "**a. **Training on Multiple Subsets**: Cross-validation allows the model to be trained on different subsets of the data, maximizing the use of available data for training. For every data point, it is included in the training dataset several times but only in the validation dataset once.\n",
    "\n",
    "**b. **Improved Model Validation**: It provides a thorough way of validating the model on multiple partitions of the dataset, ensuring that the model is evaluated on various subsets, which helps in understanding its performance across different scenarios.\n",
    "\n",
    "### 3. **Hyperparameter Tuning**\n",
    "\n",
    "**a. **Model Selection**: Cross-validation is often used in hyperparameter tuning to select the best set of hyperparameters. By evaluating different hyperparameter configurations on multiple folds, you can choose the configuration that performs best on average.\n",
    "\n",
    "**b. **Grid Search**: It’s commonly used with grid search techniques to systematically work through multiple combinations of hyperparameters, ensuring a more comprehensive search for optimal hyperparameters.\n",
    "\n",
    "### 4. **Bias-Variance Tradeoff**\n",
    "\n",
    "**a. **Bias and Variance Assessment**: Cross-validation can help in understanding the bias-variance tradeoff of your model. By comparing performance metrics across different folds, you can diagnose whether your model is suffering from high bias (underfitting) or high variance (overfitting).\n",
    "\n",
    "**b. **Model Improvement**: By identifying whether the model consistently underperforms or overperforms on certain folds, you can make adjustments to the model, features, or training process to improve its performance.\n",
    "\n",
    "### 5. **Validation of Different Models**\n",
    "\n",
    "**a. **Comparison of Models**: Cross-validation allows for a fair comparison between different models. By using the same folds for all models, you ensure that performance differences are due to the models themselves rather than random fluctuations in the train-test split.\n",
    "\n",
    "**b. **Model Robustness**: It helps in evaluating how robust a model is by observing its performance consistency across different subsets of the data.\n",
    "\n",
    "\n",
    "\n",
    "### Types of Cross-Validation\n",
    "\n",
    "**1. **K-Fold Cross-Validation**: The data is allocated to \\( k \\) subset (folds). The model undergoes training using \\( k-1 \\) sets of data and validate on the remaining fold. This procedure undergoes \\(k\\) iterations, with different validation sets in each run.\n",
    "\n",
    "**2. **Stratified K-Fold Cross-Validation**: Similar to k-fold, but ensures that each fold has approximately the same proportion of class labels as the entire dataset. This proves to be effective in handling imbalanced datasets.\n",
    "\n",
    "**3. **Leave-One-Out Cross-Validation (LOOCV)** : In k-fold cross-validation, when k matches the number of data points. Each training dataset is formed by selecting all data points except one, which is employed as the test dataset.\n",
    "\n",
    "**4. **Group K-Fold Cross-Validation**: Used when there are groups or clusters within the data. The model is trained and validated while keeping the groups separate, ensuring that data from the same group does not appear in both training and validation sets.\n",
    "\n",
    "In summary, cross-validation enhances model evaluation by providing more reliable performance metrics, improving data utilization, and assisting in hyperparameter tuning. It helps in building robust models that generalize well to new, unseen data."
   ]
  },
  {
   "cell_type": "code",
   "execution_count": 42,
   "id": "88f2016c",
   "metadata": {},
   "outputs": [
    {
     "name": "stdout",
     "output_type": "stream",
     "text": [
      "Cross-Validation Scores: [0.98948422 0.992732   0.99482102 0.99211741 0.99276698]\n",
      "Mean CV Score: 0.99\n",
      "Standard Deviation of CV Scores: 0.00\n"
     ]
    }
   ],
   "source": [
    "from sklearn.model_selection import cross_val_score\n",
    "\n",
    "# Perform cross-validation\n",
    "cv_scores = cross_val_score(model, x, y, cv=5) \n",
    "\n",
    "# Print cross-validation scores\n",
    "print(f'Cross-Validation Scores: {cv_scores}')\n",
    "print(f'Mean CV Score: {cv_scores.mean():.2f}')\n",
    "print(f'Standard Deviation of CV Scores: {cv_scores.std():.2f}')"
   ]
  },
  {
   "cell_type": "code",
   "execution_count": null,
   "id": "9bf6ff12",
   "metadata": {},
   "outputs": [],
   "source": []
  }
 ],
 "metadata": {
  "kernelspec": {
   "display_name": "Python 3 (ipykernel)",
   "language": "python",
   "name": "python3"
  },
  "language_info": {
   "codemirror_mode": {
    "name": "ipython",
    "version": 3
   },
   "file_extension": ".py",
   "mimetype": "text/x-python",
   "name": "python",
   "nbconvert_exporter": "python",
   "pygments_lexer": "ipython3",
   "version": "3.12.7"
  }
 },
 "nbformat": 4,
 "nbformat_minor": 5
}
